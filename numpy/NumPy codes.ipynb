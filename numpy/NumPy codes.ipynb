{
 "cells": [
  {
   "cell_type": "markdown",
   "metadata": {},
   "source": [
    "# Installation"
   ]
  },
  {
   "cell_type": "code",
   "execution_count": 1,
   "metadata": {},
   "outputs": [],
   "source": [
    "#conda install numpy\n",
    "#pip3 install numpy\n",
    "\n",
    "import numpy as np"
   ]
  },
  {
   "cell_type": "markdown",
   "metadata": {},
   "source": [
    "# Numpy Arrays\n",
    "\n",
    "A homogeneous container of numerical elements. Each element can be a numerical element of a single type (such as float, int or complex) or a combination (such as (float, int, float)). Each array has an associated data-type (or dtype), which describes the numerical type of its elements.\n",
    "\n",
    "Axes are defined for arrays with more than one dimension. A 2-dimensional array has two corresponding axes: the first running vertically downwards across rows (axis 0), and the second running horizontally across columns (axis 1).\n",
    "\n",
    "\n",
    "## Creating NumPy Arrays"
   ]
  },
  {
   "cell_type": "code",
   "execution_count": 2,
   "metadata": {},
   "outputs": [
    {
     "data": {
      "text/plain": [
       "array([1, 2, 3])"
      ]
     },
     "execution_count": 2,
     "metadata": {},
     "output_type": "execute_result"
    }
   ],
   "source": [
    "#From a Python list\n",
    "\n",
    "my_list = [1,2,3]\n",
    "my_list\n",
    "\n",
    "arr = np.array(my_list)\n",
    "arr"
   ]
  },
  {
   "cell_type": "code",
   "execution_count": 3,
   "metadata": {},
   "outputs": [
    {
     "data": {
      "text/plain": [
       "array([[1, 2, 3],\n",
       "       [4, 5, 6],\n",
       "       [7, 8, 9]])"
      ]
     },
     "execution_count": 3,
     "metadata": {},
     "output_type": "execute_result"
    }
   ],
   "source": [
    "#From a Python matrix\n",
    "\n",
    "my_matrix = [[1,2,3],[4,5,6],[7,8,9]]\n",
    "my_matrix\n",
    "\n",
    "mat = np.array(my_matrix)\n",
    "mat"
   ]
  },
  {
   "cell_type": "markdown",
   "metadata": {},
   "source": [
    "## Array\n",
    "np.array(object [, dtype=None, copy=True, order='K', subok=False, ndmin=0])"
   ]
  },
  {
   "cell_type": "code",
   "execution_count": 4,
   "metadata": {},
   "outputs": [
    {
     "name": "stdout",
     "output_type": "stream",
     "text": [
      "[2 4 6]\n"
     ]
    }
   ],
   "source": [
    "#create an array 1 dimension\n",
    "arr = np.array([2,4,6]) \n",
    "print(arr)"
   ]
  },
  {
   "cell_type": "code",
   "execution_count": 5,
   "metadata": {},
   "outputs": [
    {
     "name": "stdout",
     "output_type": "stream",
     "text": [
      "[[ 2  4  6]\n",
      " [ 8 10 12]\n",
      " [14 16 18]]\n"
     ]
    }
   ],
   "source": [
    "#create an array 2 dimensions\n",
    "mat = np.array([[2,4,6], [8,10,12], [14,16,18]]) \n",
    "print(mat)"
   ]
  },
  {
   "cell_type": "markdown",
   "metadata": {},
   "source": [
    "### zeros and ones"
   ]
  },
  {
   "cell_type": "code",
   "execution_count": 6,
   "metadata": {},
   "outputs": [
    {
     "data": {
      "text/plain": [
       "array([[0., 0., 0., 0., 0.],\n",
       "       [0., 0., 0., 0., 0.],\n",
       "       [0., 0., 0., 0., 0.],\n",
       "       [0., 0., 0., 0., 0.],\n",
       "       [0., 0., 0., 0., 0.]])"
      ]
     },
     "execution_count": 6,
     "metadata": {},
     "output_type": "execute_result"
    }
   ],
   "source": [
    "#generates arrays of zeros\n",
    "arr0 = np.zeros(3)\n",
    "mat0 = np.zeros((5,5))\n",
    "mat0"
   ]
  },
  {
   "cell_type": "code",
   "execution_count": 7,
   "metadata": {},
   "outputs": [
    {
     "data": {
      "text/plain": [
       "array([[1., 1., 1.],\n",
       "       [1., 1., 1.],\n",
       "       [1., 1., 1.]])"
      ]
     },
     "execution_count": 7,
     "metadata": {},
     "output_type": "execute_result"
    }
   ],
   "source": [
    "#generates arrays of ones\n",
    "arr1 = np.ones(3)\n",
    "mat1 = np.ones((3,3))\n",
    "mat1"
   ]
  },
  {
   "cell_type": "markdown",
   "metadata": {},
   "source": [
    "## arange array\n",
    "\n",
    "np.arange(start, stop, [step, ]dtype=None)"
   ]
  },
  {
   "cell_type": "code",
   "execution_count": 8,
   "metadata": {},
   "outputs": [
    {
     "data": {
      "text/plain": [
       "array([[ 0,  1,  2,  3],\n",
       "       [ 4,  5,  6,  7],\n",
       "       [ 8,  9, 10, 11]])"
      ]
     },
     "execution_count": 8,
     "metadata": {},
     "output_type": "execute_result"
    }
   ],
   "source": [
    "#create sequences of numbers\n",
    "arr = np.arange(0,10, 2, int ) #np.arange([start,] stop [, step, dtype])\n",
    "arr\n",
    "\n",
    "arr = np.arange( 0, 2, 0.3 ) #accepts float\n",
    "arr\n",
    "\n",
    "arr = np.arange(0,12).reshape(3,4) #can be reshaped in rows and columns\n",
    "arr"
   ]
  },
  {
   "cell_type": "markdown",
   "metadata": {},
   "source": [
    "## linspace\n",
    "np.linspace(start, stop, num=50[, endpoint=True, retstep=False, dtype=None, axis=0])"
   ]
  },
  {
   "cell_type": "code",
   "execution_count": 9,
   "metadata": {},
   "outputs": [
    {
     "data": {
      "text/plain": [
       "array([ 0. ,  0.5,  1. ,  1.5,  2. ,  2.5,  3. ,  3.5,  4. ,  4.5,  5. ,\n",
       "        5.5,  6. ,  6.5,  7. ,  7.5,  8. ,  8.5,  9. ,  9.5, 10. ])"
      ]
     },
     "execution_count": 9,
     "metadata": {},
     "output_type": "execute_result"
    }
   ],
   "source": [
    "#Return evenly spaced numbers over a specified interval\n",
    "np.linspace(0,10,3)\n",
    "np.linspace(0,10,21)"
   ]
  },
  {
   "cell_type": "markdown",
   "metadata": {},
   "source": [
    "## eye"
   ]
  },
  {
   "cell_type": "code",
   "execution_count": 10,
   "metadata": {},
   "outputs": [
    {
     "data": {
      "text/plain": [
       "array([[1., 0., 0., 0.],\n",
       "       [0., 1., 0., 0.],\n",
       "       [0., 0., 1., 0.],\n",
       "       [0., 0., 0., 1.]])"
      ]
     },
     "execution_count": 10,
     "metadata": {},
     "output_type": "execute_result"
    }
   ],
   "source": [
    "#creates an identity matrix\n",
    "np.eye(4)"
   ]
  },
  {
   "cell_type": "markdown",
   "metadata": {},
   "source": [
    "## Random "
   ]
  },
  {
   "cell_type": "code",
   "execution_count": 11,
   "metadata": {},
   "outputs": [
    {
     "data": {
      "text/plain": [
       "array([39, 12, 49, 47, 83, 89, 48, 59, 28, 80])"
      ]
     },
     "execution_count": 11,
     "metadata": {},
     "output_type": "execute_result"
    }
   ],
   "source": [
    "#Create an array of the given shape and populate it with random samples from a uniform distribution over [0, 1].\n",
    "np.random.rand(2)\n",
    "np.random.rand(5,5)\n",
    "\n",
    "#Return a sample (or samples) from the \"standard normal\" distribution. Unlike rand which is uniform:\n",
    "np.random.randn(2)\n",
    "np.random.randn(5,5)\n",
    "\n",
    "#Return random integers from `low` (inclusive) to `high` (exclusive).\n",
    "np.random.randint(1,100)\n",
    "np.random.randint(1,100,10)"
   ]
  },
  {
   "cell_type": "markdown",
   "metadata": {},
   "source": [
    "## Array Attributes and Methods"
   ]
  },
  {
   "cell_type": "code",
   "execution_count": 12,
   "metadata": {},
   "outputs": [
    {
     "data": {
      "text/plain": [
       "array([30, 47,  9, 21, 46,  3, 32, 46, 15, 22])"
      ]
     },
     "execution_count": 12,
     "metadata": {},
     "output_type": "execute_result"
    }
   ],
   "source": [
    "arr = np.arange(25)\n",
    "arr #show\n",
    "\n",
    "ranarr = np.random.randint(0,50,10)\n",
    "ranarr #show"
   ]
  },
  {
   "cell_type": "code",
   "execution_count": 13,
   "metadata": {},
   "outputs": [
    {
     "data": {
      "text/plain": [
       "array([[30, 47],\n",
       "       [ 9, 21],\n",
       "       [46,  3],\n",
       "       [32, 46],\n",
       "       [15, 22]])"
      ]
     },
     "execution_count": 13,
     "metadata": {},
     "output_type": "execute_result"
    }
   ],
   "source": [
    "ranarr.reshape(5,2) #modify the structure of the array"
   ]
  },
  {
   "cell_type": "code",
   "execution_count": 14,
   "metadata": {},
   "outputs": [
    {
     "data": {
      "text/plain": [
       "5"
      ]
     },
     "execution_count": 14,
     "metadata": {},
     "output_type": "execute_result"
    }
   ],
   "source": [
    "ranarr.max() #max value\n",
    "ranarr.argmax() #max value position\n",
    "\n",
    "ranarr.min()#min value\n",
    "ranarr.argmin() #min value position"
   ]
  },
  {
   "cell_type": "code",
   "execution_count": 15,
   "metadata": {},
   "outputs": [
    {
     "data": {
      "text/plain": [
       "4"
      ]
     },
     "execution_count": 15,
     "metadata": {},
     "output_type": "execute_result"
    }
   ],
   "source": [
    "ranarr.ndim #number of axes(dimensions)\n",
    "ranarr.size #number of elements\n",
    "ranarr.shape #dimensions\n",
    "ranarr.dtype #data type\n",
    "ranarr.itemsize #size in bytes"
   ]
  },
  {
   "cell_type": "code",
   "execution_count": 16,
   "metadata": {},
   "outputs": [
    {
     "data": {
      "text/plain": [
       "(5, 2)"
      ]
     },
     "execution_count": 16,
     "metadata": {},
     "output_type": "execute_result"
    }
   ],
   "source": [
    "ranarr.reshape(5,2).shape"
   ]
  },
  {
   "cell_type": "markdown",
   "metadata": {},
   "source": [
    "# Indexing and Selection\n",
    "\n",
    "## Bracket Indexing and Selection\n"
   ]
  },
  {
   "cell_type": "code",
   "execution_count": 17,
   "metadata": {},
   "outputs": [
    {
     "data": {
      "text/plain": [
       "False"
      ]
     },
     "execution_count": 17,
     "metadata": {},
     "output_type": "execute_result"
    }
   ],
   "source": [
    "#Get a value at an index\n",
    "arr[8]\n",
    "\n",
    "#Get values in a range\n",
    "arr[1:5]\n",
    "\n",
    "#To get a copy, need to be explicit\n",
    "arr_copy = arr.copy()\n",
    "arr_copy\n",
    "\n",
    "#Copies and clones\n",
    "arr1 = arr\n",
    "arr2 = arr.copy\n",
    "arr is arr1 #true, same object\n",
    "arr is arr2 #false, different object"
   ]
  },
  {
   "cell_type": "markdown",
   "metadata": {},
   "source": [
    "### Indexing a 2D array (matrices)"
   ]
  },
  {
   "cell_type": "code",
   "execution_count": 18,
   "metadata": {},
   "outputs": [
    {
     "data": {
      "text/plain": [
       "array([[10, 15],\n",
       "       [25, 30]])"
      ]
     },
     "execution_count": 18,
     "metadata": {},
     "output_type": "execute_result"
    }
   ],
   "source": [
    "#Creating 2D array\n",
    "arr_2d = np.array(([5,10,15],[20,25,30],[35,40,45]))\n",
    "arr_2d\n",
    "\n",
    "#Indexing rows\n",
    "arr_2d[1]\n",
    "arr_2d[[0,2]]\n",
    "\n",
    "# Getting individual element value\n",
    "arr_2d[1][0]\n",
    "\n",
    "#Shape (2,2) from top right corner\n",
    "arr_2d[:2,1:]"
   ]
  },
  {
   "cell_type": "code",
   "execution_count": 19,
   "metadata": {},
   "outputs": [
    {
     "data": {
      "text/plain": [
       "array([ 3,  4,  5,  6,  7,  8,  9, 10])"
      ]
     },
     "execution_count": 19,
     "metadata": {},
     "output_type": "execute_result"
    }
   ],
   "source": [
    "#Filter\n",
    "arr = np.arange(1,11)\n",
    "arr > 4\n",
    "bool_arr = arr>4\n",
    "arr[bool_arr]\n",
    "\n",
    "arr[arr>2]\n",
    "\n",
    "x = 2\n",
    "arr[arr>x]"
   ]
  },
  {
   "cell_type": "markdown",
   "metadata": {},
   "source": [
    "## NumPy Operations\n",
    "\n",
    "### Arithmetic"
   ]
  },
  {
   "cell_type": "code",
   "execution_count": 20,
   "metadata": {},
   "outputs": [
    {
     "name": "stdout",
     "output_type": "stream",
     "text": [
      "[[ 1  2  3  4]\n",
      " [ 5  6  7  8]\n",
      " [ 9 10 11 12]]\n"
     ]
    }
   ],
   "source": [
    "arr = np.arange(1,13).reshape(3,4)\n",
    "print(arr)"
   ]
  },
  {
   "cell_type": "code",
   "execution_count": 21,
   "metadata": {},
   "outputs": [
    {
     "data": {
      "text/plain": [
       "array([[0.        , 0.69314718, 1.09861229, 1.38629436],\n",
       "       [1.60943791, 1.79175947, 1.94591015, 2.07944154],\n",
       "       [2.19722458, 2.30258509, 2.39789527, 2.48490665]])"
      ]
     },
     "execution_count": 21,
     "metadata": {},
     "output_type": "execute_result"
    }
   ],
   "source": [
    "#basic operations\n",
    "arr + arr #sum\n",
    "arr - arr #subtraction\n",
    "arr * arr #product\n",
    "arr/arr #division\n",
    "\n",
    "1/arr #normalization\n",
    "arr**2 #power\n",
    "\n",
    "np.sqrt(arr) #square root\n",
    "np.exp(arr) #exponent\n",
    "\n",
    "np.sin(arr) #sin\n",
    "np.log(arr) #logaritm"
   ]
  },
  {
   "cell_type": "code",
   "execution_count": 22,
   "metadata": {},
   "outputs": [
    {
     "data": {
      "text/plain": [
       "array([[ 1,  3,  6, 10],\n",
       "       [ 5, 11, 18, 26],\n",
       "       [ 9, 19, 30, 42]], dtype=int32)"
      ]
     },
     "execution_count": 22,
     "metadata": {},
     "output_type": "execute_result"
    }
   ],
   "source": [
    "#sumas\n",
    "np.sum(arr) #total sum\n",
    "\n",
    "np.sum(arr, axis = 0) #column sum\n",
    "np.sum(arr, axis = 1) #row sum\n",
    "\n",
    "np.cumsum(arr, axis = 0) #cumulative column sum\n",
    "np.cumsum(arr, axis = 1) #cumulative row sum"
   ]
  },
  {
   "cell_type": "code",
   "execution_count": 23,
   "metadata": {},
   "outputs": [
    {
     "data": {
      "text/plain": [
       "array([[1, 1, 1],\n",
       "       [1, 1, 1],\n",
       "       [1, 1, 1]])"
      ]
     },
     "execution_count": 23,
     "metadata": {},
     "output_type": "execute_result"
    }
   ],
   "source": [
    "#diference\n",
    "np.diff(arr) #diference between a number and the following one"
   ]
  },
  {
   "cell_type": "code",
   "execution_count": 24,
   "metadata": {},
   "outputs": [
    {
     "data": {
      "text/plain": [
       "array([        1,         2,         6,        24,       120,       720,\n",
       "            5040,     40320,    362880,   3628800,  39916800, 479001600],\n",
       "      dtype=int32)"
      ]
     },
     "execution_count": 24,
     "metadata": {},
     "output_type": "execute_result"
    }
   ],
   "source": [
    "#product\n",
    "np.prod(arr) #total product\n",
    "np.cumprod(arr) #acumulated product"
   ]
  },
  {
   "cell_type": "code",
   "execution_count": 25,
   "metadata": {},
   "outputs": [
    {
     "data": {
      "text/plain": [
       "array([[1.66666667, 1.66666667, 1.66666667],\n",
       "       [1.66666667, 1.66666667, 1.66666667],\n",
       "       [1.66666667, 1.66666667, 1.66666667]])"
      ]
     },
     "execution_count": 25,
     "metadata": {},
     "output_type": "execute_result"
    }
   ],
   "source": [
    "#basic statistics\n",
    "np.max(arr) #maximum\n",
    "np.min(arr) #minimum\n",
    "\n",
    "np.average(arr) #average\n",
    "np.mean(arr) #mean\n",
    "np.median(arr) #median\n",
    "\n",
    "np.var(arr) #variance\n",
    "np.std(arr) #standard deviation\n",
    "np.bincount(arr[0]) #values occurency\n",
    "\n",
    "np.corrcoef(arr) #Pearson relation between vectprs\n",
    "np.cov(arr) #covariance matrix"
   ]
  },
  {
   "cell_type": "code",
   "execution_count": 26,
   "metadata": {},
   "outputs": [
    {
     "data": {
      "text/plain": [
       "array([2.  , 2.  , 2.  , 2.  , 2.  , 2.  , 2.  , 2.  , 2.  , 2.07, 2.3 ,\n",
       "       2.53, 2.76, 2.99, 3.22, 3.45, 3.68, 3.91, 4.14, 4.37, 4.6 , 4.83,\n",
       "       5.06, 5.29, 5.52, 5.75, 5.98, 6.  , 6.  , 6.  , 6.  , 6.  , 6.  ,\n",
       "       6.  , 6.  ])"
      ]
     },
     "execution_count": 26,
     "metadata": {},
     "output_type": "execute_result"
    }
   ],
   "source": [
    "#rounding methods\n",
    "arrdem = np.arange(0,8,0.23)\n",
    "arrdem\n",
    "\n",
    "np.rint(arrdem) #to the nearest integer\n",
    "np.round(arrdem, 1) #to the nearest number for the precision defined (decimals)\n",
    "np.ceil(arrdem) #to te nearest upper integer\n",
    "np.floor(arrdem) #to te nearest lower integer\n",
    "\n",
    "np.trunc(arrdem) #truncates to integer\n",
    "np.clip(arrdem, 2, 6) #clips lower and upper values according to the boundaries"
   ]
  },
  {
   "cell_type": "markdown",
   "metadata": {},
   "source": [
    "## Shape manipulation"
   ]
  },
  {
   "cell_type": "code",
   "execution_count": 27,
   "metadata": {},
   "outputs": [
    {
     "data": {
      "text/plain": [
       "[array([[ 1],\n",
       "        [ 4],\n",
       "        [ 7],\n",
       "        [10]]), array([[ 2],\n",
       "        [ 5],\n",
       "        [ 8],\n",
       "        [11]]), array([[ 3],\n",
       "        [ 6],\n",
       "        [ 9],\n",
       "        [12]])]"
      ]
     },
     "execution_count": 27,
     "metadata": {},
     "output_type": "execute_result"
    }
   ],
   "source": [
    "#Shape manipulation\n",
    "np.sort(arr) #sort values\n",
    "\n",
    "np.ravel(arr) #flattens the values to a single line\n",
    "arr.T #transposes the matrix\n",
    "arr.resize(4,3) #modifies arrays structure\n",
    "\n",
    "np.vstack((arr, arr)) #joins vertically (rows)\n",
    "np.hstack((arr,arr)) #joins horizontally (columns)\n",
    "\n",
    "np.split(arr, 2) #splits in equal parts the rows\n",
    "np.hsplit(arr, 3) #splits in equal parts the columns"
   ]
  },
  {
   "cell_type": "markdown",
   "metadata": {},
   "source": [
    "## Broadcasting"
   ]
  },
  {
   "cell_type": "code",
   "execution_count": 28,
   "metadata": {},
   "outputs": [
    {
     "data": {
      "text/plain": [
       "array([[20,  2,  3],\n",
       "       [20,  5,  6],\n",
       "       [20, 20, 20],\n",
       "       [20, 20, 20]])"
      ]
     },
     "execution_count": 28,
     "metadata": {},
     "output_type": "execute_result"
    }
   ],
   "source": [
    "arr[0:3,0] = 100 #updates values\n",
    "arr\n",
    "\n",
    "slice_of_arr = arr[:2, :3] #cuts a portion of values\n",
    "slice_of_arr\n",
    "\n",
    "arr[arr > 6] = 20 #filter to update\n",
    "arr"
   ]
  }
 ],
 "metadata": {
  "kernelspec": {
   "display_name": "Python 3",
   "language": "python",
   "name": "python3"
  },
  "language_info": {
   "codemirror_mode": {
    "name": "ipython",
    "version": 3
   },
   "file_extension": ".py",
   "mimetype": "text/x-python",
   "name": "python",
   "nbconvert_exporter": "python",
   "pygments_lexer": "ipython3",
   "version": "3.7.4"
  }
 },
 "nbformat": 4,
 "nbformat_minor": 2
}
