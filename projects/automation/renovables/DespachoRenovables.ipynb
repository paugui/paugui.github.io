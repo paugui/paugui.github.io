{
 "cells": [
  {
   "cell_type": "markdown",
   "metadata": {},
   "source": [
    "# Descargar automáticamente de CAMMESA\n",
    "A partir de la ejecución del siguiente código: \n",
    "1. Se descargan los archivos de datos cada 5 minutos de Despacho de Renovables y cubrimiento de la demanda de CAMMESA.\n",
    "2. Se estandarizan los mismos.\n",
    "3. Se los exporta como archivo CSV.\n",
    "\n",
    "Fuente: https://despachorenovables.cammesa.com/renovables/"
   ]
  },
  {
   "cell_type": "code",
   "execution_count": 1,
   "metadata": {},
   "outputs": [],
   "source": [
    "#Cargar librerías\n",
    "import requests\n",
    "import pandas as pd\n",
    "import datetime as dt\n",
    "from datetime import date, datetime, timedelta\n",
    "from os import mkdir, rmdir, remove, path"
   ]
  },
  {
   "cell_type": "code",
   "execution_count": 2,
   "metadata": {},
   "outputs": [],
   "source": [
    "# Definir\n",
    "sdate = date(2020, 6, 1)   # fecha de inicio (año, mes, día)\n",
    "edate = date(2020, 6, 7)   # fecha de fin (año, mes, día)\n",
    "\n",
    "file = 'renovables.csv' #nombre del archivo de destino"
   ]
  },
  {
   "cell_type": "code",
   "execution_count": null,
   "metadata": {},
   "outputs": [],
   "source": [
    "# Descarga de datos\n",
    "dir = \"renovables\" #carpeta de destino de los archivos\n",
    "mkdir(str(dir))\n",
    "\n",
    "delta = edate - sdate\n",
    "\n",
    "for i in range(delta.days + 1):\n",
    "    date = (sdate + timedelta(days=i))\n",
    "    date1 = date.strftime('%d-%m-%Y')\n",
    "    date2 = (date + timedelta(days=1))\n",
    "    date2 = date2.strftime('%d-%m-%Y')\n",
    "    url = 'https://cdsrenovables.cammesa.com/exhisto/RenovablesService/GetChartTotalTRDataSource?desde=' + str(date1) + '&hasta=' + str(date2)\n",
    "    r = requests.get(url, allow_redirects=True)\n",
    "    if 'NOT_FOUND' in r.content.decode():\n",
    "        print(str(date) + ' not Found.')  \n",
    "    else:\n",
    "        with open('./' + dir + '/' + str(date) + '.json', 'wb') as f: f.write(r.content)"
   ]
  },
  {
   "cell_type": "code",
   "execution_count": null,
   "metadata": {},
   "outputs": [],
   "source": [
    "#Combinación de archivos\n",
    "out = pd.DataFrame(columns = ['momento', 'eolica', 'fotovoltaica', 'biocombustible', 'hidraulica', 'cubrimientoDem'])\n",
    "\n",
    "for i in range(delta.days + 1):\n",
    "    date = str(sdate + timedelta(days=i))\n",
    "    if path.isfile('./' + dir + '/'  + date + '.json'):\n",
    "        df = pd.read_json('./' + dir + '/'  + date + '.json')\n",
    "        out = out.append(df, ignore_index=True)\n",
    "    else:\n",
    "        print(date + \" does not exist\")\n",
    "\n",
    "display(out.head())\n",
    "display(out.tail())"
   ]
  },
  {
   "cell_type": "code",
   "execution_count": null,
   "metadata": {},
   "outputs": [],
   "source": [
    "# estandarizar datos\n",
    "df = out\n",
    "\n",
    "df['momento'] = pd.to_datetime(df.momento)\n",
    "df['momento'] = df['momento'].dt.strftime('%d/%m/%Y %H:%M')\n",
    "df.sort_values(by = 'momento', ascending=True, inplace=True, kind='quicksort', na_position='last')\n",
    "df = df.reset_index(drop=True)\n",
    "\n",
    "display(out.head())\n",
    "display(out.tail())"
   ]
  },
  {
   "cell_type": "code",
   "execution_count": null,
   "metadata": {},
   "outputs": [],
   "source": [
    "#Borra archivos anteriores y exporta la tabla\n",
    "df.to_csv(file, index = False) \n",
    "\n",
    "for i in range(delta.days + 1):\n",
    "    date = str(sdate + timedelta(days=i))\n",
    "    if path.isfile('./' + dir + '/'  + date + '.json'):\n",
    "        remove('./' + dir + '/' + date + '.json')\n",
    "    else:\n",
    "        print(date + \" does not exist\")\n",
    "rmdir(str(dir))"
   ]
  }
 ],
 "metadata": {
  "kernelspec": {
   "display_name": "Python 3",
   "language": "python",
   "name": "python3"
  },
  "language_info": {
   "codemirror_mode": {
    "name": "ipython",
    "version": 3
   },
   "file_extension": ".py",
   "mimetype": "text/x-python",
   "name": "python",
   "nbconvert_exporter": "python",
   "pygments_lexer": "ipython3",
   "version": "3.7.6"
  }
 },
 "nbformat": 4,
 "nbformat_minor": 4
}
