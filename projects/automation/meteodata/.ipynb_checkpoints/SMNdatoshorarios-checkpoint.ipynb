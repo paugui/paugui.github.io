{
 "cells": [
  {
   "cell_type": "markdown",
   "metadata": {},
   "source": [
    "# Descargar automáticamente del SMN\n",
    "A partir de la ejecución del siguiente código: \n",
    "1. Se descargan los archivos de datos horarios del Servicio Meteorológico Nacional de las fechas seleccionadas.\n",
    "2. Se estandarizan los mismos y compila en una única tabla.\n",
    "3. Se los exporta como archivo CSV.\n",
    "\n",
    "Fuente: https://www.smn.gob.ar/descarga-de-datos"
   ]
  },
  {
   "cell_type": "markdown",
   "metadata": {},
   "source": [
    "### DH. Datos Horarios\n",
    "Dato meteorológico de todas las estaciones de superficie del país\n",
    "Datos de temperatura, presión, viento y humedad de las estaciones meteorológicas de todo el país."
   ]
  },
  {
   "cell_type": "code",
   "execution_count": 1,
   "metadata": {},
   "outputs": [],
   "source": [
    "#Cargar librerías\n",
    "import requests\n",
    "import pandas as pd\n",
    "from datetime import datetime, date, timedelta\n",
    "from os import mkdir, rmdir, remove, path"
   ]
  },
  {
   "cell_type": "code",
   "execution_count": 2,
   "metadata": {},
   "outputs": [],
   "source": [
    "# Definir fechas\n",
    "sdate = date(2018, 2, 1)   # fecha de inicio (año, mes, día)\n",
    "edate = date(2018, 2, 28)   # fecha de fin (año, mes, día)\n",
    "\n",
    "delta = edate - sdate"
   ]
  },
  {
   "cell_type": "code",
   "execution_count": 3,
   "metadata": {},
   "outputs": [
    {
     "name": "stdout",
     "output_type": "stream",
     "text": [
      "20180211 does not exist\n"
     ]
    }
   ],
   "source": [
    "# Descarga de datos\n",
    "dir = \"meteodata\" #carpeta de destino de los archivos\n",
    "mkdir(str(dir)) \n",
    "\n",
    "for i in range(delta.days + 1):\n",
    "    date = str(sdate + timedelta(days=i)).replace('-', '')\n",
    "    url = 'https://ssl.smn.gob.ar/dpd/descarga_opendata.php?file=observaciones/datohorario' + date + '.txt'\n",
    "    r = requests.get(url, allow_redirects=True)\n",
    "    if 'El archivo no existe.' in str(r.content):\n",
    "        print(date + \" does not exist\")\n",
    "    else:\n",
    "        with open('./' + dir + '/' + date + '.txt', 'wb') as f: f.write(r.content) "
   ]
  },
  {
   "cell_type": "code",
   "execution_count": 4,
   "metadata": {},
   "outputs": [
    {
     "name": "stdout",
     "output_type": "stream",
     "text": [
      "20180211 does not exist\n"
     ]
    },
    {
     "data": {
      "text/html": [
       "<div>\n",
       "<style scoped>\n",
       "    .dataframe tbody tr th:only-of-type {\n",
       "        vertical-align: middle;\n",
       "    }\n",
       "\n",
       "    .dataframe tbody tr th {\n",
       "        vertical-align: top;\n",
       "    }\n",
       "\n",
       "    .dataframe thead th {\n",
       "        text-align: right;\n",
       "    }\n",
       "</style>\n",
       "<table border=\"1\" class=\"dataframe\">\n",
       "  <thead>\n",
       "    <tr style=\"text-align: right;\">\n",
       "      <th></th>\n",
       "      <th>Fecha</th>\n",
       "      <th>Hora</th>\n",
       "      <th>Temp[ºC]</th>\n",
       "      <th>Hum[%]</th>\n",
       "      <th>Pres[hPa]</th>\n",
       "      <th>VDir[gr]</th>\n",
       "      <th>VVel[km/h]</th>\n",
       "      <th>Estacion</th>\n",
       "    </tr>\n",
       "  </thead>\n",
       "  <tbody>\n",
       "    <tr>\n",
       "      <th>0</th>\n",
       "      <td>01022018</td>\n",
       "      <td>0</td>\n",
       "      <td>22.2</td>\n",
       "      <td>75</td>\n",
       "      <td>1013.9</td>\n",
       "      <td>180</td>\n",
       "      <td>9</td>\n",
       "      <td>ROSARIO AERO</td>\n",
       "    </tr>\n",
       "    <tr>\n",
       "      <th>1</th>\n",
       "      <td>01022018</td>\n",
       "      <td>1</td>\n",
       "      <td>22.1</td>\n",
       "      <td>76</td>\n",
       "      <td>1013.9</td>\n",
       "      <td>180</td>\n",
       "      <td>6</td>\n",
       "      <td>ROSARIO AERO</td>\n",
       "    </tr>\n",
       "    <tr>\n",
       "      <th>2</th>\n",
       "      <td>01022018</td>\n",
       "      <td>2</td>\n",
       "      <td>20.6</td>\n",
       "      <td>82</td>\n",
       "      <td>1013.3</td>\n",
       "      <td>180</td>\n",
       "      <td>13</td>\n",
       "      <td>ROSARIO AERO</td>\n",
       "    </tr>\n",
       "    <tr>\n",
       "      <th>3</th>\n",
       "      <td>01022018</td>\n",
       "      <td>3</td>\n",
       "      <td>20.5</td>\n",
       "      <td>81</td>\n",
       "      <td>1012.9</td>\n",
       "      <td>160</td>\n",
       "      <td>9</td>\n",
       "      <td>ROSARIO AERO</td>\n",
       "    </tr>\n",
       "    <tr>\n",
       "      <th>4</th>\n",
       "      <td>01022018</td>\n",
       "      <td>4</td>\n",
       "      <td>19.4</td>\n",
       "      <td>85</td>\n",
       "      <td>1012.7</td>\n",
       "      <td>180</td>\n",
       "      <td>6</td>\n",
       "      <td>ROSARIO AERO</td>\n",
       "    </tr>\n",
       "  </tbody>\n",
       "</table>\n",
       "</div>"
      ],
      "text/plain": [
       "      Fecha Hora Temp[ºC] Hum[%] Pres[hPa] VDir[gr] VVel[km/h]      Estacion\n",
       "0  01022018    0     22.2     75    1013.9      180          9  ROSARIO AERO\n",
       "1  01022018    1     22.1     76    1013.9      180          6  ROSARIO AERO\n",
       "2  01022018    2     20.6     82    1013.3      180         13  ROSARIO AERO\n",
       "3  01022018    3     20.5     81    1012.9      160          9  ROSARIO AERO\n",
       "4  01022018    4     19.4     85    1012.7      180          6  ROSARIO AERO"
      ]
     },
     "metadata": {},
     "output_type": "display_data"
    },
    {
     "data": {
      "text/html": [
       "<div>\n",
       "<style scoped>\n",
       "    .dataframe tbody tr th:only-of-type {\n",
       "        vertical-align: middle;\n",
       "    }\n",
       "\n",
       "    .dataframe tbody tr th {\n",
       "        vertical-align: top;\n",
       "    }\n",
       "\n",
       "    .dataframe thead th {\n",
       "        text-align: right;\n",
       "    }\n",
       "</style>\n",
       "<table border=\"1\" class=\"dataframe\">\n",
       "  <thead>\n",
       "    <tr style=\"text-align: right;\">\n",
       "      <th></th>\n",
       "      <th>Fecha</th>\n",
       "      <th>Hora</th>\n",
       "      <th>Temp[ºC]</th>\n",
       "      <th>Hum[%]</th>\n",
       "      <th>Pres[hPa]</th>\n",
       "      <th>VDir[gr]</th>\n",
       "      <th>VVel[km/h]</th>\n",
       "      <th>Estacion</th>\n",
       "    </tr>\n",
       "  </thead>\n",
       "  <tbody>\n",
       "    <tr>\n",
       "      <th>643</th>\n",
       "      <td>28022018</td>\n",
       "      <td>19</td>\n",
       "      <td>28.8</td>\n",
       "      <td>44</td>\n",
       "      <td>1010.0</td>\n",
       "      <td>90</td>\n",
       "      <td>9</td>\n",
       "      <td>ROSARIO AERO</td>\n",
       "    </tr>\n",
       "    <tr>\n",
       "      <th>644</th>\n",
       "      <td>28022018</td>\n",
       "      <td>20</td>\n",
       "      <td>27.4</td>\n",
       "      <td>56</td>\n",
       "      <td>1010.8</td>\n",
       "      <td>70</td>\n",
       "      <td>11</td>\n",
       "      <td>ROSARIO AERO</td>\n",
       "    </tr>\n",
       "    <tr>\n",
       "      <th>645</th>\n",
       "      <td>28022018</td>\n",
       "      <td>21</td>\n",
       "      <td>26.4</td>\n",
       "      <td>65</td>\n",
       "      <td>1011.6</td>\n",
       "      <td>70</td>\n",
       "      <td>9</td>\n",
       "      <td>ROSARIO AERO</td>\n",
       "    </tr>\n",
       "    <tr>\n",
       "      <th>646</th>\n",
       "      <td>28022018</td>\n",
       "      <td>22</td>\n",
       "      <td>25.8</td>\n",
       "      <td>66</td>\n",
       "      <td>1011.8</td>\n",
       "      <td>50</td>\n",
       "      <td>9</td>\n",
       "      <td>ROSARIO AERO</td>\n",
       "    </tr>\n",
       "    <tr>\n",
       "      <th>647</th>\n",
       "      <td>28022018</td>\n",
       "      <td>23</td>\n",
       "      <td>25.9</td>\n",
       "      <td>68</td>\n",
       "      <td>1012.3</td>\n",
       "      <td>110</td>\n",
       "      <td>11</td>\n",
       "      <td>ROSARIO AERO</td>\n",
       "    </tr>\n",
       "  </tbody>\n",
       "</table>\n",
       "</div>"
      ],
      "text/plain": [
       "        Fecha Hora Temp[ºC] Hum[%] Pres[hPa] VDir[gr] VVel[km/h]      Estacion\n",
       "643  28022018   19     28.8     44    1010.0       90          9  ROSARIO AERO\n",
       "644  28022018   20     27.4     56    1010.8       70         11  ROSARIO AERO\n",
       "645  28022018   21     26.4     65    1011.6       70          9  ROSARIO AERO\n",
       "646  28022018   22     25.8     66    1011.8       50          9  ROSARIO AERO\n",
       "647  28022018   23     25.9     68    1012.3      110         11  ROSARIO AERO"
      ]
     },
     "metadata": {},
     "output_type": "display_data"
    }
   ],
   "source": [
    "#Filtrado y combinación de archivos\n",
    "estacion = 'ROSARIO AERO' #filtro de selección de estación\n",
    "\n",
    "out = pd.DataFrame(columns = ['Fecha', 'Hora', 'Temp[ºC]', 'Hum[%]', 'Pres[hPa]', 'VDir[gr]', 'VVel[km/h]', 'Estacion'])\n",
    "\n",
    "for i in range(delta.days + 1):\n",
    "    date = str(sdate + timedelta(days=i)).replace('-', '')\n",
    "    if path.isfile('./' + dir + '/'  + date + '.txt'):\n",
    "        df = pd.read_fwf('./' + dir + '/'  + date + '.txt', header = None, index_col = False, \n",
    "                names = ['Fecha', 'Hora', 'Temp[ºC]', 'Hum[%]', 'Pres[hPa]', 'VDir[gr]', 'VVel[km/h]', 'Estacion'])\n",
    "        df1 = df[df['Estacion'] == estacion] \n",
    "        out = out.append(df1, ignore_index=True)\n",
    "    else:\n",
    "        print(date + \" does not exist\")\n",
    "\n",
    "    \n",
    "display(out.head())\n",
    "display(out.tail())"
   ]
  },
  {
   "cell_type": "code",
   "execution_count": 5,
   "metadata": {},
   "outputs": [
    {
     "name": "stdout",
     "output_type": "stream",
     "text": [
      "<class 'pandas.core.frame.DataFrame'>\n",
      "RangeIndex: 648 entries, 0 to 647\n",
      "Data columns (total 6 columns):\n",
      " #   Column      Non-Null Count  Dtype         \n",
      "---  ------      --------------  -----         \n",
      " 0   Horario     648 non-null    datetime64[ns]\n",
      " 1   Temp[ºC]    648 non-null    float64       \n",
      " 2   Hum[%]      648 non-null    float64       \n",
      " 3   Pres[hPa]   648 non-null    float64       \n",
      " 4   VDir[gr]    648 non-null    float64       \n",
      " 5   VVel[km/h]  648 non-null    float64       \n",
      "dtypes: datetime64[ns](1), float64(5)\n",
      "memory usage: 30.5 KB\n",
      "None\n"
     ]
    }
   ],
   "source": [
    "#Estandarización\n",
    "df = out\n",
    "\n",
    "df['Horario'] = df['Fecha'].map(str) + ' ' + df['Hora'].map(str) + ':00'\n",
    "df['Horario'] = pd.to_datetime(df['Horario'], format ='%d%m%Y %H:%M') \n",
    "\n",
    "df['Temp[ºC]'] = df['Temp[ºC]'].astype(float)\n",
    "df['Hum[%]'] = df['Hum[%]'].astype(float)\n",
    "df['Pres[hPa]'] = df['Pres[hPa]'].astype(float)\n",
    "df['VDir[gr]'] = df['VDir[gr]'].astype(float)\n",
    "df['VVel[km/h]'] = df['VVel[km/h]'].astype(float)\n",
    "\n",
    "df = df[['Horario', 'Temp[ºC]', 'Hum[%]', 'Pres[hPa]', 'VDir[gr]', 'VVel[km/h]']]\n",
    "\n",
    "print(df.info())"
   ]
  },
  {
   "cell_type": "code",
   "execution_count": 6,
   "metadata": {},
   "outputs": [
    {
     "name": "stdout",
     "output_type": "stream",
     "text": [
      "20180211 does not exist\n"
     ]
    }
   ],
   "source": [
    "#Borra archivos anteriores y exporta la tabla\n",
    "file = 'datosRosario.csv' #nombre del archivo de destino\n",
    "\n",
    "df.to_csv(file, index = False) \n",
    "\n",
    "for i in range(delta.days + 1):\n",
    "    date = str(sdate + timedelta(days=i)).replace('-', '')\n",
    "    if path.isfile('./' + dir + '/'  + date + '.txt'):\n",
    "        remove('./' + dir + '/' + date + '.txt')\n",
    "    else:\n",
    "        print(date + \" does not exist\")\n",
    "rmdir(str(dir))"
   ]
  }
 ],
 "metadata": {
  "kernelspec": {
   "display_name": "Python 3",
   "language": "python",
   "name": "python3"
  },
  "language_info": {
   "codemirror_mode": {
    "name": "ipython",
    "version": 3
   },
   "file_extension": ".py",
   "mimetype": "text/x-python",
   "name": "python",
   "nbconvert_exporter": "python",
   "pygments_lexer": "ipython3",
   "version": "3.7.6"
  }
 },
 "nbformat": 4,
 "nbformat_minor": 4
}
