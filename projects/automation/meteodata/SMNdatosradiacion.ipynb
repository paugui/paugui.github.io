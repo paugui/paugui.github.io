{
 "cells": [
  {
   "cell_type": "markdown",
   "metadata": {},
   "source": [
    "# Descargar automáticamente del SMN\n",
    "A partir de la ejecución del siguiente código: \n",
    "1. Se descargan los archivos de radiación del Servicio Meteorológico Nacional de las fechas seleccionadas.\n",
    "2. Se estandarizan los mismos y compila en una única tabla.\n",
    "3. Se los exporta como archivo CSV.\n",
    "\n",
    "Fuente: https://www.smn.gob.ar/descarga-de-datos"
   ]
  },
  {
   "cell_type": "markdown",
   "metadata": {},
   "source": [
    "### R        Datos de Radiación de Buenos Aires y de Ushuaia\n",
    "Datos que se obtienen mediante la medición de la radiación solar y su interacción con la atmósfera."
   ]
  },
  {
   "cell_type": "code",
   "execution_count": 1,
   "metadata": {},
   "outputs": [],
   "source": [
    "#Cargar librerías\n",
    "import requests\n",
    "import pandas as pd\n",
    "from datetime import datetime, date, timedelta\n",
    "from os import  mkdir, rmdir, remove, path"
   ]
  },
  {
   "cell_type": "code",
   "execution_count": 2,
   "metadata": {},
   "outputs": [],
   "source": [
    "# Definir fechas\n",
    "sdate = date(2018, 2, 1)   # fecha de inicio (año, mes, día)\n",
    "edate = date(2018, 2, 28)   # fecha de fin (año, mes, día)\n",
    "\n",
    "delta = edate - sdate"
   ]
  },
  {
   "cell_type": "code",
   "execution_count": 3,
   "metadata": {},
   "outputs": [
    {
     "name": "stdout",
     "output_type": "stream",
     "text": [
      "20180209 does not exist\n",
      "20180210 does not exist\n",
      "20180211 does not exist\n",
      "20180212 does not exist\n",
      "20180213 does not exist\n",
      "20180228 does not exist\n"
     ]
    }
   ],
   "source": [
    "# Descarga de datos\n",
    "dir = \"radiacion\" #carpeta de destino de los archivos\n",
    "mkdir(str(dir)) \n",
    "\n",
    "for i in range(delta.days + 1):\n",
    "    date = str(sdate + timedelta(days=i)).replace('-', '')\n",
    "    url = 'https://ssl.smn.gob.ar/dpd/descarga_opendata.php?file=radiacionsolar/radsolar' + date + '.txt'\n",
    "    r = requests.get(url, allow_redirects=True)\n",
    "    if 'El archivo no existe.' in str(r.content):\n",
    "        print(date + \" does not exist\")\n",
    "    else:\n",
    "        with open('./' + dir + '/' + date + '.txt', 'wb') as f: f.write(r.content)"
   ]
  },
  {
   "cell_type": "code",
   "execution_count": 4,
   "metadata": {},
   "outputs": [
    {
     "name": "stdout",
     "output_type": "stream",
     "text": [
      "20180209 does not exist\n",
      "20180210 does not exist\n",
      "20180211 does not exist\n",
      "20180212 does not exist\n",
      "20180213 does not exist\n",
      "20180228 does not exist\n"
     ]
    },
    {
     "data": {
      "text/html": [
       "<div>\n",
       "<style scoped>\n",
       "    .dataframe tbody tr th:only-of-type {\n",
       "        vertical-align: middle;\n",
       "    }\n",
       "\n",
       "    .dataframe tbody tr th {\n",
       "        vertical-align: top;\n",
       "    }\n",
       "\n",
       "    .dataframe thead th {\n",
       "        text-align: right;\n",
       "    }\n",
       "</style>\n",
       "<table border=\"1\" class=\"dataframe\">\n",
       "  <thead>\n",
       "    <tr style=\"text-align: right;\">\n",
       "      <th></th>\n",
       "      <th>Horario</th>\n",
       "      <th>Global_BsAs[W/m2]</th>\n",
       "      <th>Difusa_BsAs[W/m2]</th>\n",
       "      <th>Global_Ush[W/m2]</th>\n",
       "      <th>Difusa_Ush[W/m2]</th>\n",
       "    </tr>\n",
       "  </thead>\n",
       "  <tbody>\n",
       "    <tr>\n",
       "      <th>0</th>\n",
       "      <td>2018-02-01 00:01:00</td>\n",
       "      <td>-2.758</td>\n",
       "      <td>-3.38</td>\n",
       "      <td>8.835</td>\n",
       "      <td>-5.732</td>\n",
       "    </tr>\n",
       "    <tr>\n",
       "      <th>1</th>\n",
       "      <td>2018-02-01 00:02:00</td>\n",
       "      <td>-2.758</td>\n",
       "      <td>-3.38</td>\n",
       "      <td>9.237</td>\n",
       "      <td>-4.204</td>\n",
       "    </tr>\n",
       "    <tr>\n",
       "      <th>2</th>\n",
       "      <td>2018-02-01 00:03:00</td>\n",
       "      <td>-2.758</td>\n",
       "      <td>-3.38</td>\n",
       "      <td>9.639</td>\n",
       "      <td>-3.057</td>\n",
       "    </tr>\n",
       "    <tr>\n",
       "      <th>3</th>\n",
       "      <td>2018-02-01 00:04:00</td>\n",
       "      <td>-2.758</td>\n",
       "      <td>-3.38</td>\n",
       "      <td>9.237</td>\n",
       "      <td>-2.420</td>\n",
       "    </tr>\n",
       "    <tr>\n",
       "      <th>4</th>\n",
       "      <td>2018-02-01 00:05:00</td>\n",
       "      <td>-2.758</td>\n",
       "      <td>-3.38</td>\n",
       "      <td>8.233</td>\n",
       "      <td>-3.439</td>\n",
       "    </tr>\n",
       "  </tbody>\n",
       "</table>\n",
       "</div>"
      ],
      "text/plain": [
       "               Horario  Global_BsAs[W/m2]  Difusa_BsAs[W/m2]  \\\n",
       "0  2018-02-01 00:01:00             -2.758              -3.38   \n",
       "1  2018-02-01 00:02:00             -2.758              -3.38   \n",
       "2  2018-02-01 00:03:00             -2.758              -3.38   \n",
       "3  2018-02-01 00:04:00             -2.758              -3.38   \n",
       "4  2018-02-01 00:05:00             -2.758              -3.38   \n",
       "\n",
       "   Global_Ush[W/m2]  Difusa_Ush[W/m2]  \n",
       "0             8.835            -5.732  \n",
       "1             9.237            -4.204  \n",
       "2             9.639            -3.057  \n",
       "3             9.237            -2.420  \n",
       "4             8.233            -3.439  "
      ]
     },
     "metadata": {},
     "output_type": "display_data"
    },
    {
     "data": {
      "text/html": [
       "<div>\n",
       "<style scoped>\n",
       "    .dataframe tbody tr th:only-of-type {\n",
       "        vertical-align: middle;\n",
       "    }\n",
       "\n",
       "    .dataframe tbody tr th {\n",
       "        vertical-align: top;\n",
       "    }\n",
       "\n",
       "    .dataframe thead th {\n",
       "        text-align: right;\n",
       "    }\n",
       "</style>\n",
       "<table border=\"1\" class=\"dataframe\">\n",
       "  <thead>\n",
       "    <tr style=\"text-align: right;\">\n",
       "      <th></th>\n",
       "      <th>Horario</th>\n",
       "      <th>Global_BsAs[W/m2]</th>\n",
       "      <th>Difusa_BsAs[W/m2]</th>\n",
       "      <th>Global_Ush[W/m2]</th>\n",
       "      <th>Difusa_Ush[W/m2]</th>\n",
       "    </tr>\n",
       "  </thead>\n",
       "  <tbody>\n",
       "    <tr>\n",
       "      <th>31631</th>\n",
       "      <td>2018-02-27 23:54:00</td>\n",
       "      <td>-2.145</td>\n",
       "      <td>-1.988</td>\n",
       "      <td>-0.402</td>\n",
       "      <td>-14.013</td>\n",
       "    </tr>\n",
       "    <tr>\n",
       "      <th>31632</th>\n",
       "      <td>2018-02-27 23:55:00</td>\n",
       "      <td>-2.349</td>\n",
       "      <td>-1.988</td>\n",
       "      <td>-0.602</td>\n",
       "      <td>-13.631</td>\n",
       "    </tr>\n",
       "    <tr>\n",
       "      <th>31633</th>\n",
       "      <td>2018-02-27 23:56:00</td>\n",
       "      <td>-2.349</td>\n",
       "      <td>-1.988</td>\n",
       "      <td>-0.602</td>\n",
       "      <td>-13.376</td>\n",
       "    </tr>\n",
       "    <tr>\n",
       "      <th>31634</th>\n",
       "      <td>2018-02-27 23:57:00</td>\n",
       "      <td>-2.349</td>\n",
       "      <td>-1.988</td>\n",
       "      <td>-0.602</td>\n",
       "      <td>-13.758</td>\n",
       "    </tr>\n",
       "    <tr>\n",
       "      <th>31635</th>\n",
       "      <td>2018-02-27 23:58:00</td>\n",
       "      <td>-2.349</td>\n",
       "      <td>-1.988</td>\n",
       "      <td>-0.602</td>\n",
       "      <td>-12.994</td>\n",
       "    </tr>\n",
       "  </tbody>\n",
       "</table>\n",
       "</div>"
      ],
      "text/plain": [
       "                   Horario  Global_BsAs[W/m2]  Difusa_BsAs[W/m2]  \\\n",
       "31631  2018-02-27 23:54:00             -2.145             -1.988   \n",
       "31632  2018-02-27 23:55:00             -2.349             -1.988   \n",
       "31633  2018-02-27 23:56:00             -2.349             -1.988   \n",
       "31634  2018-02-27 23:57:00             -2.349             -1.988   \n",
       "31635  2018-02-27 23:58:00             -2.349             -1.988   \n",
       "\n",
       "       Global_Ush[W/m2]  Difusa_Ush[W/m2]  \n",
       "31631            -0.402           -14.013  \n",
       "31632            -0.602           -13.631  \n",
       "31633            -0.602           -13.376  \n",
       "31634            -0.602           -13.758  \n",
       "31635            -0.602           -12.994  "
      ]
     },
     "metadata": {},
     "output_type": "display_data"
    }
   ],
   "source": [
    "#Combinación de archivos\n",
    "out = pd.DataFrame(columns = ['Horario', 'Global_BsAs[W/m2]', 'Difusa_BsAs[W/m2]', 'Global_Ush[W/m2]', 'Difusa_Ush[W/m2]'])\n",
    "\n",
    "for i in range(delta.days + 1):\n",
    "    date = str(sdate + timedelta(days=i)).replace('-', '')\n",
    "    if path.isfile('./' + dir + '/'  + date + '.txt'):\n",
    "        df1 = pd.read_csv('./' + dir + '/' + date + '.txt', header = None, index_col = False, skiprows= 1,\n",
    "                    names = ['Horario', 'Global_BsAs[W/m2]', 'Difusa_BsAs[W/m2]', 'Global_Ush[W/m2]', 'Difusa_Ush[W/m2]'])\n",
    "        out = out.append(df1, ignore_index=True)\n",
    "    else:\n",
    "        print(date + \" does not exist\")\n",
    "                           \n",
    "    \n",
    "display(out.head())\n",
    "display(out.tail())"
   ]
  },
  {
   "cell_type": "code",
   "execution_count": 5,
   "metadata": {},
   "outputs": [
    {
     "name": "stdout",
     "output_type": "stream",
     "text": [
      "<class 'pandas.core.frame.DataFrame'>\n",
      "RangeIndex: 31636 entries, 0 to 31635\n",
      "Data columns (total 5 columns):\n",
      " #   Column             Non-Null Count  Dtype         \n",
      "---  ------             --------------  -----         \n",
      " 0   Horario            31636 non-null  datetime64[ns]\n",
      " 1   Global_BsAs[W/m2]  31636 non-null  float64       \n",
      " 2   Difusa_BsAs[W/m2]  31636 non-null  float64       \n",
      " 3   Global_Ush[W/m2]   30198 non-null  float64       \n",
      " 4   Difusa_Ush[W/m2]   30198 non-null  float64       \n",
      "dtypes: datetime64[ns](1), float64(4)\n",
      "memory usage: 1.2 MB\n",
      "None\n"
     ]
    }
   ],
   "source": [
    "#Estandarización\n",
    "df = out\n",
    "\n",
    "df['Horario'] = pd.to_datetime(df['Horario'], format ='%Y-%m-%d %H:%M:%S') \n",
    "\n",
    "print(df.info())"
   ]
  },
  {
   "cell_type": "code",
   "execution_count": 6,
   "metadata": {},
   "outputs": [
    {
     "name": "stdout",
     "output_type": "stream",
     "text": [
      "20180209 does not exist\n",
      "20180210 does not exist\n",
      "20180211 does not exist\n",
      "20180212 does not exist\n",
      "20180213 does not exist\n",
      "20180228 does not exist\n"
     ]
    }
   ],
   "source": [
    "#Borra archivos anteriores y exporta la tabla\n",
    "file = 'datosRadiacion.csv' #nombre del archivo de destino\n",
    "\n",
    "df.to_csv(file, index = False) \n",
    "\n",
    "for i in range(delta.days + 1):\n",
    "    date = str(sdate + timedelta(days=i)).replace('-', '')\n",
    "    if path.isfile('./' + dir + '/'  + date + '.txt'):\n",
    "        remove('./' + dir + '/' + date + '.txt')\n",
    "    else:\n",
    "        print(date + \" does not exist\")\n",
    "        \n",
    "rmdir(str(dir))"
   ]
  }
 ],
 "metadata": {
  "kernelspec": {
   "display_name": "Python 3",
   "language": "python",
   "name": "python3"
  },
  "language_info": {
   "codemirror_mode": {
    "name": "ipython",
    "version": 3
   },
   "file_extension": ".py",
   "mimetype": "text/x-python",
   "name": "python",
   "nbconvert_exporter": "python",
   "pygments_lexer": "ipython3",
   "version": "3.7.6"
  }
 },
 "nbformat": 4,
 "nbformat_minor": 4
}
