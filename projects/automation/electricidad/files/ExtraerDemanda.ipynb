{
 "cells": [
  {
   "cell_type": "markdown",
   "metadata": {},
   "source": [
    "# Extraer datos de demanda eléctrica\n",
    "La ejecución de este código utiliza los datos de los informes mensuales de datos operativos eléctricos de la Compañía Administradora del Mercado Mayorista Eléctrico (CAMMESA) de Argentina, y los agrupa en un único archivo CSV y filtra duplicados. <br><br>\n",
    "Dentro de los mismos consta un resumen mensual que incluye detalles de demanda (MWh) de grandes usuarios y distribuidoras, por región, provincia, tarifa y categoría."
   ]
  },
  {
   "cell_type": "code",
   "execution_count": null,
   "metadata": {},
   "outputs": [],
   "source": [
    "# Cargar librerías\n",
    "import zipfile\n",
    "import numpy as np\n",
    "import pandas as pd\n",
    "from datetime import date, datetime\n",
    "from dateutil.rrule import rrule, MONTHLY\n",
    "from os import remove, path"
   ]
  },
  {
   "cell_type": "code",
   "execution_count": null,
   "metadata": {},
   "outputs": [],
   "source": [
    "# Definir fechas\n",
    "sdate = date(2016, 1, 1)   # fecha de inicio (año, mes, día)\n",
    "edate = date(2016, 5, 1)   # fecha de fin (año, mes, día)"
   ]
  },
  {
   "cell_type": "code",
   "execution_count": null,
   "metadata": {},
   "outputs": [],
   "source": [
    "# Definir valores a extraer\n",
    "filePath = './CAMMESA'\n",
    "fileName = 'BASE_INFORME_MENSUAL_'\n",
    "sheetName = 'DEMANDA'\n",
    "headerRow = 21 #should be one less than the row in excel\n",
    "columns = 'A:L'\n",
    "columnNames = ['AÑO', 'MES', 'AGENTE_NEMO', 'AGENTE_DESCRIPCION', 'TIPO_AGENTE', \n",
    "               'REGION', 'PROVINCIA', 'CATEGORIA_AREA', 'CATEGORIA_DEMANDA', 'TARIFA',\n",
    "               'CATEGORIA_TARIFA', 'DEMANDA']\n",
    "\n",
    "outFile = 'Demanda.csv' #nombre del archivo de destino"
   ]
  },
  {
   "cell_type": "code",
   "execution_count": null,
   "metadata": {},
   "outputs": [],
   "source": [
    "#Funciones de fecha\n",
    "def pad_date(month_num):\n",
    "    month = str(month_num)\n",
    "    if len(month) == 1:\n",
    "        month = '0' + month\n",
    "    return month\n",
    "\n",
    "def month_iter(start_month, start_year, end_month, end_year):\n",
    "    start = datetime(start_year, start_month, 1)\n",
    "    end = datetime(end_year, end_month, 1)\n",
    "\n",
    "    return ((pad_date(d.month), pad_date(d.year)) for d in rrule(MONTHLY, dtstart=start, until=end))"
   ]
  },
  {
   "cell_type": "code",
   "execution_count": null,
   "metadata": {},
   "outputs": [],
   "source": [
    "# Descomprimir datos\n",
    "for (month, year) in month_iter(sdate.month, sdate.year, edate.month, edate.year):\n",
    "    nameComponents = [year, month]  \n",
    "    inFile = filePath + '/' + fileName + '-'.join(nameComponents) + '.zip'\n",
    "\n",
    "    if path.isfile(inFile):\n",
    "        print('Extracting ' + inFile)\n",
    "        with zipfile.ZipFile(inFile) as zf:\n",
    "            zf.extractall(filePath)\n",
    "    else:\n",
    "        print('ERROR: ' + inFile + \" does not exist\")"
   ]
  },
  {
   "cell_type": "code",
   "execution_count": null,
   "metadata": {},
   "outputs": [],
   "source": [
    "# Borrar archivos zip\n",
    "for (month, year) in month_iter(sdate.month, sdate.year, edate.month, edate.year):\n",
    "    nameComponents = [year, month]  \n",
    "    inFile = filePath + '/' + fileName + '-'.join(nameComponents) + '.zip'\n",
    "    \n",
    "    if path.isfile(inFile):\n",
    "        print('Deleting ' + inFile)\n",
    "        remove(inFile)\n",
    "    else:\n",
    "        print('ERROR: ' + inFile + \" does not exist\")"
   ]
  },
  {
   "cell_type": "code",
   "execution_count": 7,
   "metadata": {},
   "outputs": [
    {
     "name": "stdout",
     "output_type": "stream",
     "text": [
      "Concatenating ./CAMMESA/BASE_INFORME_MENSUAL_2016-02.xlsx\n",
      "Concatenating ./CAMMESA/BASE_INFORME_MENSUAL_2016-03.xlsx\n",
      "Concatenating ./CAMMESA/BASE_INFORME_MENSUAL_2016-04.xlsx\n",
      "Concatenating ./CAMMESA/BASE_INFORME_MENSUAL_2016-05.xlsx\n"
     ]
    }
   ],
   "source": [
    "# Unificar datos en un DataFrame\n",
    "out = pd.DataFrame()\n",
    "\n",
    "for (month,year) in month_iter(sdate.month, sdate.year, edate.month, edate.year):\n",
    "    nameComponents = [year, month]  \n",
    "    inFile = filePath + '/' + fileName + '-'.join(nameComponents) + '.xlsx'\n",
    "    \n",
    "    if path.isfile(inFile):\n",
    "        print('Concatenating ' + inFile)\n",
    "        df = pd.read_excel(inFile, sheet_name = sheetName, header = headerRow, usecols = columns)\n",
    "        df.columns = columnNames\n",
    "        out = pd.concat([out, df])\n",
    "    else:\n",
    "        print('ERROR: ' + inFile + \" does not exist\")"
   ]
  },
  {
   "cell_type": "code",
   "execution_count": 8,
   "metadata": {},
   "outputs": [
    {
     "name": "stdout",
     "output_type": "stream",
     "text": [
      "<class 'pandas.core.frame.DataFrame'>\n",
      "Int64Index: 221267 entries, 0 to 46548\n",
      "Data columns (total 12 columns):\n",
      " #   Column              Non-Null Count   Dtype         \n",
      "---  ------              --------------   -----         \n",
      " 0   AÑO                 221267 non-null  int64         \n",
      " 1   MES                 221267 non-null  datetime64[ns]\n",
      " 2   AGENTE_NEMO         221267 non-null  object        \n",
      " 3   AGENTE_DESCRIPCION  221267 non-null  object        \n",
      " 4   TIPO_AGENTE         221267 non-null  object        \n",
      " 5   REGION              221267 non-null  object        \n",
      " 6   PROVINCIA           221267 non-null  object        \n",
      " 7   CATEGORIA_AREA      221267 non-null  object        \n",
      " 8   CATEGORIA_DEMANDA   221267 non-null  object        \n",
      " 9   TARIFA              221267 non-null  object        \n",
      " 10  CATEGORIA_TARIFA    221267 non-null  object        \n",
      " 11  DEMANDA             221267 non-null  float64       \n",
      "dtypes: datetime64[ns](1), float64(1), int64(1), object(9)\n",
      "memory usage: 21.9+ MB\n"
     ]
    }
   ],
   "source": [
    "out.info()"
   ]
  },
  {
   "cell_type": "code",
   "execution_count": 9,
   "metadata": {},
   "outputs": [
    {
     "name": "stdout",
     "output_type": "stream",
     "text": [
      "<class 'pandas.core.frame.DataFrame'>\n",
      "RangeIndex: 53615 entries, 0 to 53614\n",
      "Data columns (total 12 columns):\n",
      " #   Column              Non-Null Count  Dtype         \n",
      "---  ------              --------------  -----         \n",
      " 0   AÑO                 53615 non-null  int64         \n",
      " 1   MES                 53615 non-null  datetime64[ns]\n",
      " 2   AGENTE_NEMO         53615 non-null  object        \n",
      " 3   AGENTE_DESCRIPCION  53615 non-null  object        \n",
      " 4   TIPO_AGENTE         53615 non-null  object        \n",
      " 5   REGION              53615 non-null  object        \n",
      " 6   PROVINCIA           53615 non-null  object        \n",
      " 7   CATEGORIA_AREA      53615 non-null  object        \n",
      " 8   CATEGORIA_DEMANDA   53615 non-null  object        \n",
      " 9   TARIFA              53615 non-null  object        \n",
      " 10  CATEGORIA_TARIFA    53615 non-null  object        \n",
      " 11  DEMANDA             53615 non-null  float64       \n",
      "dtypes: datetime64[ns](1), float64(1), int64(1), object(9)\n",
      "memory usage: 4.9+ MB\n"
     ]
    }
   ],
   "source": [
    "#Drop duplicated rows\n",
    "df = out.drop_duplicates(subset = columnNames, inplace = False)\n",
    "df.reset_index(drop= True, inplace = True)\n",
    "df.info()"
   ]
  },
  {
   "cell_type": "code",
   "execution_count": 10,
   "metadata": {},
   "outputs": [],
   "source": [
    "#Exporta la tabla\n",
    "df.to_csv(outFile, index = False) "
   ]
  }
 ],
 "metadata": {
  "kernelspec": {
   "display_name": "Python 3",
   "language": "python",
   "name": "python3"
  },
  "language_info": {
   "codemirror_mode": {
    "name": "ipython",
    "version": 3
   },
   "file_extension": ".py",
   "mimetype": "text/x-python",
   "name": "python",
   "nbconvert_exporter": "python",
   "pygments_lexer": "ipython3",
   "version": "3.7.6"
  }
 },
 "nbformat": 4,
 "nbformat_minor": 4
}
