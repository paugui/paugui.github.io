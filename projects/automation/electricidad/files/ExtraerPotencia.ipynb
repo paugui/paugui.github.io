{
 "cells": [
  {
   "cell_type": "markdown",
   "metadata": {},
   "source": [
    "# Extraer datos de potencia instalada\n",
    "La ejecución de este código utiliza los datos de los informes mensuales de datos operativos eléctricos de la Compañía Administradora del Mercado Mayorista Eléctrico (CAMMESA) de Argentina, y los agrupa en un único archivo CSV. <br><br>\n",
    "Dentro de los mismos consta un resumen mensual que incluye detalles de potencia instalada (MW), por central, agente, región, tipo de máquina, fuente de generación y tecnología."
   ]
  },
  {
   "cell_type": "code",
   "execution_count": 1,
   "metadata": {},
   "outputs": [],
   "source": [
    "# Cargar librerías\n",
    "import zipfile\n",
    "import numpy as np\n",
    "import pandas as pd\n",
    "from datetime import date, datetime\n",
    "from dateutil.rrule import rrule, MONTHLY\n",
    "from os import remove, path"
   ]
  },
  {
   "cell_type": "code",
   "execution_count": 2,
   "metadata": {},
   "outputs": [],
   "source": [
    "# Definir fechas\n",
    "sdate = date(2016, 1, 1)   # fecha de inicio (año, mes, día)\n",
    "edate = date(2016, 6, 1)   # fecha de fin (año, mes, día)"
   ]
  },
  {
   "cell_type": "code",
   "execution_count": 3,
   "metadata": {},
   "outputs": [],
   "source": [
    "# Definir valores a extraer\n",
    "filePath = './CAMMESA'\n",
    "fileName = 'BASE_INFORME_MENSUAL_'\n",
    "sheetName = 'POTENCIA INSTALADA'\n",
    "headerRow = 22 #should be one less than the row in excel\n",
    "columns = 'A:J'\n",
    "columnNames = ['PERIODO', 'CENTRAL', 'AGENTE', 'AGENTE_DESCRIPCION', \n",
    "               'REGION', 'CATEGORIA_REGION', 'TIPO_MAQUINA', 'FUENTE_GENERACION',\n",
    "               'TECNOLOGIA', 'POTENCIA_INSTALADA']\n",
    "\n",
    "outFile = 'PotenciaInstalada.csv' #nombre del archivo de destino"
   ]
  },
  {
   "cell_type": "code",
   "execution_count": 4,
   "metadata": {},
   "outputs": [],
   "source": [
    "#Funciones de fecha\n",
    "def pad_date(month_num):\n",
    "    month = str(month_num)\n",
    "    if len(month) == 1:\n",
    "        month = '0' + month\n",
    "    return month\n",
    "\n",
    "def month_iter(start_month, start_year, end_month, end_year):\n",
    "    start = datetime(start_year, start_month, 1)\n",
    "    end = datetime(end_year, end_month, 1)\n",
    "\n",
    "    return ((pad_date(d.month), pad_date(d.year)) for d in rrule(MONTHLY, dtstart=start, until=end))"
   ]
  },
  {
   "cell_type": "code",
   "execution_count": 5,
   "metadata": {},
   "outputs": [],
   "source": [
    "# Descomprimir datos\n",
    "for (month,year) in month_iter(sdate.month, sdate.year, edate.month, edate.year):\n",
    "    nameComponents = [year, month]  \n",
    "    inFile = filePath + '/' + fileName + '-'.join(nameComponents) + '.zip'\n",
    "\n",
    "    if path.isfile(inFile):\n",
    "        print('Extracting ' + inFile)\n",
    "        try:\n",
    "            with zipfile.ZipFile(inFile) as zf:\n",
    "                zf.extractall(filePath)\n",
    "        except:\n",
    "            print('ERROR: ' + inFile)"
   ]
  },
  {
   "cell_type": "code",
   "execution_count": 6,
   "metadata": {},
   "outputs": [
    {
     "name": "stdout",
     "output_type": "stream",
     "text": [
      "ERROR: ./CAMMESA/BASE_INFORME_MENSUAL_2016-01.zip does not exist\n",
      "ERROR: ./CAMMESA/BASE_INFORME_MENSUAL_2016-02.zip does not exist\n",
      "ERROR: ./CAMMESA/BASE_INFORME_MENSUAL_2016-03.zip does not exist\n",
      "ERROR: ./CAMMESA/BASE_INFORME_MENSUAL_2016-04.zip does not exist\n",
      "ERROR: ./CAMMESA/BASE_INFORME_MENSUAL_2016-05.zip does not exist\n",
      "ERROR: ./CAMMESA/BASE_INFORME_MENSUAL_2016-06.zip does not exist\n"
     ]
    }
   ],
   "source": [
    "# Borrar archivos zip\n",
    "for (month,year) in month_iter(sdate.month, sdate.year, edate.month, edate.year):\n",
    "    nameComponents = [year, month]  \n",
    "    inFile = filePath + '/' + fileName + '-'.join(nameComponents) + '.zip'\n",
    "    \n",
    "    if path.isfile(inFile):\n",
    "        print('Deleting ' + inFile)\n",
    "        remove(inFile)\n",
    "    else:\n",
    "        print('ERROR: ' + inFile + \" does not exist\")"
   ]
  },
  {
   "cell_type": "code",
   "execution_count": 7,
   "metadata": {},
   "outputs": [
    {
     "name": "stdout",
     "output_type": "stream",
     "text": [
      "Concatenating ./CAMMESA/BASE_INFORME_MENSUAL_2016-01.xlsx\n",
      "Concatenating ./CAMMESA/BASE_INFORME_MENSUAL_2016-02.xlsx\n",
      "Concatenating ./CAMMESA/BASE_INFORME_MENSUAL_2016-03.xlsx\n",
      "Concatenating ./CAMMESA/BASE_INFORME_MENSUAL_2016-04.xlsx\n",
      "Concatenating ./CAMMESA/BASE_INFORME_MENSUAL_2016-05.xlsx\n",
      "Concatenating ./CAMMESA/BASE_INFORME_MENSUAL_2016-06.xlsx\n"
     ]
    }
   ],
   "source": [
    "# Unificar datos en un DataFrame\n",
    "out = pd.DataFrame()\n",
    "\n",
    "for (month,year) in month_iter(sdate.month, sdate.year, edate.month, edate.year):\n",
    "    nameComponents = [year, month]  \n",
    "    inFile = filePath + '/' + fileName + '-'.join(nameComponents) + '.xlsx'\n",
    "    \n",
    "    if path.isfile(inFile):\n",
    "        print('Concatenating ' + inFile)\n",
    "        df = pd.read_excel(inFile, sheet_name = sheetName, header = headerRow, usecols = columns)\n",
    "        df.columns = columnNames\n",
    "        out = pd.concat([out, df])\n",
    "    else:\n",
    "        print('ERROR: ' + inFile + \" does not exist\")"
   ]
  },
  {
   "cell_type": "code",
   "execution_count": 8,
   "metadata": {},
   "outputs": [
    {
     "name": "stdout",
     "output_type": "stream",
     "text": [
      "<class 'pandas.core.frame.DataFrame'>\n",
      "Int64Index: 1707 entries, 0 to 281\n",
      "Data columns (total 10 columns):\n",
      " #   Column              Non-Null Count  Dtype         \n",
      "---  ------              --------------  -----         \n",
      " 0   PERIODO             1707 non-null   datetime64[ns]\n",
      " 1   CENTRAL             1707 non-null   object        \n",
      " 2   AGENTE              1707 non-null   object        \n",
      " 3   AGENTE_DESCRIPCION  1707 non-null   object        \n",
      " 4   REGION              1707 non-null   object        \n",
      " 5   CATEGORIA_REGION    1707 non-null   object        \n",
      " 6   TIPO_MAQUINA        1707 non-null   object        \n",
      " 7   FUENTE_GENERACION   1707 non-null   object        \n",
      " 8   TECNOLOGIA          1707 non-null   object        \n",
      " 9   POTENCIA_INSTALADA  1707 non-null   float64       \n",
      "dtypes: datetime64[ns](1), float64(1), object(8)\n",
      "memory usage: 146.7+ KB\n"
     ]
    }
   ],
   "source": [
    "out.info()"
   ]
  },
  {
   "cell_type": "code",
   "execution_count": 9,
   "metadata": {},
   "outputs": [],
   "source": [
    "#Exporta la tabla\n",
    "out.to_csv(outFile, index = False) "
   ]
  }
 ],
 "metadata": {
  "kernelspec": {
   "display_name": "Python 3",
   "language": "python",
   "name": "python3"
  },
  "language_info": {
   "codemirror_mode": {
    "name": "ipython",
    "version": 3
   },
   "file_extension": ".py",
   "mimetype": "text/x-python",
   "name": "python",
   "nbconvert_exporter": "python",
   "pygments_lexer": "ipython3",
   "version": "3.7.6"
  }
 },
 "nbformat": 4,
 "nbformat_minor": 4
}
