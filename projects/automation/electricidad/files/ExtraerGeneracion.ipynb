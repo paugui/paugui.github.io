{
 "cells": [
  {
   "cell_type": "markdown",
   "metadata": {},
   "source": [
    "# Extraer datos de generación eléctrica\n",
    "La ejecución de este código utiliza los datos de los informes mensuales de datos operativos eléctricos de la Compañía Administradora del Mercado Mayorista Eléctrico (CAMMESA) de Argentina, y los agrupa en un único archivo CSV y filtra duplicados. <br><br>\n",
    "Dentro de los mismos consta un resumen mensual que incluye detalles de generación (MWh) por máquina, central, agente, región, tipo de máquina, tipo de fuente, tecnología y generación neta mensual."
   ]
  },
  {
   "cell_type": "code",
   "execution_count": 1,
   "metadata": {},
   "outputs": [],
   "source": [
    "# Cargar librerías\n",
    "import zipfile\n",
    "import numpy as np\n",
    "import pandas as pd\n",
    "from datetime import date, datetime\n",
    "from dateutil.rrule import rrule, MONTHLY\n",
    "from os import remove, path"
   ]
  },
  {
   "cell_type": "code",
   "execution_count": 2,
   "metadata": {},
   "outputs": [],
   "source": [
    "# Definir fechas\n",
    "sdate = date(2016, 1, 1)   # fecha de inicio (año, mes, día)\n",
    "edate = date(2016, 5, 1)   # fecha de fin (año, mes, día)"
   ]
  },
  {
   "cell_type": "code",
   "execution_count": 3,
   "metadata": {},
   "outputs": [],
   "source": [
    "# Definir valores a extraer\n",
    "filePath = './CAMMESA'\n",
    "fileName = 'BASE_INFORME_MENSUAL_'\n",
    "sheetName = 'GENERACION'\n",
    "headerRow = 22\n",
    "columns = 'A:N'\n",
    "columnNames = ['AÑO', 'MES', 'MAQUINA', 'CENTRAL', 'AGENTE', 'AGENTE_DESCRIPCION',\n",
    "       'REGION', 'PAIS', 'TIPO_MAQUINA', 'FUENTE_GENERACION', 'TECNOLOGIA',\n",
    "       'CATEGORIA_HIDRAULICA', 'CATEGORIA_REGION', 'GENERACION_NETA']\n",
    "\n",
    "outFile = 'Generacion.csv' #nombre del archivo de destino"
   ]
  },
  {
   "cell_type": "code",
   "execution_count": 4,
   "metadata": {},
   "outputs": [],
   "source": [
    "#Funciones de fecha\n",
    "def pad_date(month_num):\n",
    "    month = str(month_num)\n",
    "    if len(month) == 1:\n",
    "        month = '0' + month\n",
    "    return month\n",
    "\n",
    "def month_iter(start_month, start_year, end_month, end_year):\n",
    "    start = datetime(start_year, start_month, 1)\n",
    "    end = datetime(end_year, end_month, 1)\n",
    "\n",
    "    return ((pad_date(d.month), pad_date(d.year)) for d in rrule(MONTHLY, dtstart=start, until=end))"
   ]
  },
  {
   "cell_type": "code",
   "execution_count": null,
   "metadata": {},
   "outputs": [],
   "source": [
    "# Descomprimir datos\n",
    "for (month, year) in month_iter(sdate.month, sdate.year, edate.month, edate.year):\n",
    "    nameComponents = [year, month]  \n",
    "    inFile = filePath + '/' + fileName + '-'.join(nameComponents) + '.zip'\n",
    "\n",
    "    if path.isfile(inFile):\n",
    "        print('Extracting ' + inFile)\n",
    "        with zipfile.ZipFile(inFile) as zf:\n",
    "            zf.extractall(filePath)\n",
    "    else:\n",
    "        print('ERROR: ' + inFile + \" does not exist\")"
   ]
  },
  {
   "cell_type": "code",
   "execution_count": null,
   "metadata": {},
   "outputs": [],
   "source": [
    "# Borrar archivos zip\n",
    "for (month, year) in month_iter(sdate.month, sdate.year, edate.month, edate.year):\n",
    "    nameComponents = [year, month]  \n",
    "    inFile = filePath + '/' + fileName + '-'.join(nameComponents) + '.zip'\n",
    "    \n",
    "    if path.isfile(inFile):\n",
    "        print('Deleting ' + inFile)\n",
    "        remove(inFile)\n",
    "    else:\n",
    "        print('ERROR: ' + inFile + \" does not exist\")"
   ]
  },
  {
   "cell_type": "code",
   "execution_count": 7,
   "metadata": {},
   "outputs": [
    {
     "name": "stdout",
     "output_type": "stream",
     "text": [
      "Concatenating ./CAMMESA/BASE_INFORME_MENSUAL_2016-01.xlsx\n",
      "Concatenating ./CAMMESA/BASE_INFORME_MENSUAL_2016-02.xlsx\n",
      "Concatenating ./CAMMESA/BASE_INFORME_MENSUAL_2016-03.xlsx\n",
      "Concatenating ./CAMMESA/BASE_INFORME_MENSUAL_2016-04.xlsx\n",
      "Concatenating ./CAMMESA/BASE_INFORME_MENSUAL_2016-05.xlsx\n"
     ]
    }
   ],
   "source": [
    "# Unificar datos en un DataFrame\n",
    "out = pd.DataFrame()\n",
    "\n",
    "for (month,year) in month_iter(sdate.month, sdate.year, edate.month, edate.year):\n",
    "    nameComponents = [year, month]  \n",
    "    inFile = filePath + '/' + fileName + '-'.join(nameComponents) + '.xlsx'\n",
    "    \n",
    "    if path.isfile(inFile):\n",
    "        print('Concatenating ' + inFile)\n",
    "        df = pd.read_excel(inFile, sheet_name = sheetName, header = headerRow, usecols = columns)\n",
    "        df.columns = columnNames\n",
    "        out = pd.concat([out, df])\n",
    "    else:\n",
    "        print('ERROR: ' + inFile + \" does not exist\")"
   ]
  },
  {
   "cell_type": "code",
   "execution_count": 8,
   "metadata": {},
   "outputs": [
    {
     "name": "stdout",
     "output_type": "stream",
     "text": [
      "<class 'pandas.core.frame.DataFrame'>\n",
      "Int64Index: 151950 entries, 0 to 32272\n",
      "Data columns (total 14 columns):\n",
      " #   Column                Non-Null Count   Dtype         \n",
      "---  ------                --------------   -----         \n",
      " 0   AÑO                   151950 non-null  int64         \n",
      " 1   MES                   151950 non-null  datetime64[ns]\n",
      " 2   MAQUINA               151950 non-null  object        \n",
      " 3   CENTRAL               151950 non-null  object        \n",
      " 4   AGENTE                151950 non-null  object        \n",
      " 5   AGENTE_DESCRIPCION    151950 non-null  object        \n",
      " 6   REGION                151950 non-null  object        \n",
      " 7   PAIS                  151950 non-null  object        \n",
      " 8   TIPO_MAQUINA          151950 non-null  object        \n",
      " 9   FUENTE_GENERACION     151950 non-null  object        \n",
      " 10  TECNOLOGIA            151950 non-null  object        \n",
      " 11  CATEGORIA_HIDRAULICA  11120 non-null   object        \n",
      " 12  CATEGORIA_REGION      151950 non-null  object        \n",
      " 13  GENERACION_NETA       151950 non-null  float64       \n",
      "dtypes: datetime64[ns](1), float64(1), int64(1), object(11)\n",
      "memory usage: 17.4+ MB\n"
     ]
    }
   ],
   "source": [
    "out.info()"
   ]
  },
  {
   "cell_type": "code",
   "execution_count": 9,
   "metadata": {},
   "outputs": [
    {
     "name": "stdout",
     "output_type": "stream",
     "text": [
      "<class 'pandas.core.frame.DataFrame'>\n",
      "RangeIndex: 34859 entries, 0 to 34858\n",
      "Data columns (total 14 columns):\n",
      " #   Column                Non-Null Count  Dtype         \n",
      "---  ------                --------------  -----         \n",
      " 0   AÑO                   34859 non-null  int64         \n",
      " 1   MES                   34859 non-null  datetime64[ns]\n",
      " 2   MAQUINA               34859 non-null  object        \n",
      " 3   CENTRAL               34859 non-null  object        \n",
      " 4   AGENTE                34859 non-null  object        \n",
      " 5   AGENTE_DESCRIPCION    34859 non-null  object        \n",
      " 6   REGION                34859 non-null  object        \n",
      " 7   PAIS                  34859 non-null  object        \n",
      " 8   TIPO_MAQUINA          34859 non-null  object        \n",
      " 9   FUENTE_GENERACION     34859 non-null  object        \n",
      " 10  TECNOLOGIA            34859 non-null  object        \n",
      " 11  CATEGORIA_HIDRAULICA  4839 non-null   object        \n",
      " 12  CATEGORIA_REGION      34859 non-null  object        \n",
      " 13  GENERACION_NETA       34859 non-null  float64       \n",
      "dtypes: datetime64[ns](1), float64(1), int64(1), object(11)\n",
      "memory usage: 3.7+ MB\n"
     ]
    }
   ],
   "source": [
    "#Drop duplicated rows\n",
    "df = out.drop_duplicates(subset = columnNames, inplace = False)\n",
    "df.reset_index(drop= True, inplace = True)\n",
    "df.info()"
   ]
  },
  {
   "cell_type": "code",
   "execution_count": 10,
   "metadata": {},
   "outputs": [],
   "source": [
    "#Exporta la tabla\n",
    "df.to_csv(outFile, index = False) "
   ]
  }
 ],
 "metadata": {
  "kernelspec": {
   "display_name": "Python 3",
   "language": "python",
   "name": "python3"
  },
  "language_info": {
   "codemirror_mode": {
    "name": "ipython",
    "version": 3
   },
   "file_extension": ".py",
   "mimetype": "text/x-python",
   "name": "python",
   "nbconvert_exporter": "python",
   "pygments_lexer": "ipython3",
   "version": "3.7.6"
  }
 },
 "nbformat": 4,
 "nbformat_minor": 4
}
