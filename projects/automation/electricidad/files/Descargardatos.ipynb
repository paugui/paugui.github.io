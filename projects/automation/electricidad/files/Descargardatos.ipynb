{
 "cells": [
  {
   "cell_type": "markdown",
   "metadata": {},
   "source": [
    "# Descargar datos operativos del Sistema Argentino de Interconexión\n",
    "El objetivo de este código es descargar de manera automatizada los informes mensuales de datos operativos eléctricos de la Compañía Administradora del Mercado Mayorista Eléctrico (CAMMESA) de Argentina.\n",
    "Los informes contienen datos detallados de demanda, generación, potencia instalada, consumo de combustible combustibles y precios del Sistema Argentino de Interconexión (SADI)."
   ]
  },
  {
   "cell_type": "code",
   "execution_count": 1,
   "metadata": {},
   "outputs": [],
   "source": [
    "# Cargar librerías\n",
    "import requests\n",
    "import pandas as pd\n",
    "from datetime import date, datetime\n",
    "from dateutil.rrule import rrule, MONTHLY\n",
    "from os import mkdir\n",
    "import zipfile, urllib.request, shutil"
   ]
  },
  {
   "cell_type": "code",
   "execution_count": 2,
   "metadata": {},
   "outputs": [],
   "source": [
    "# Directorio de descarga\n",
    "dir = \"CAMMESA\" #carpeta de destino de los archivos\n",
    "mkdir(str(dir))"
   ]
  },
  {
   "cell_type": "code",
   "execution_count": 3,
   "metadata": {},
   "outputs": [],
   "source": [
    "# Definir fechas\n",
    "sdate = date(2015, 10, 1)   # fecha de inicio (año, mes, día)\n",
    "edate = date(2020, 4, 1)   # fecha de fin (año, mes, día)"
   ]
  },
  {
   "cell_type": "code",
   "execution_count": 4,
   "metadata": {},
   "outputs": [],
   "source": [
    "def pad_date(month_num):\n",
    "    month = str(month_num)\n",
    "    if len(month) == 1:\n",
    "        month = '0' + month\n",
    "    return month\n",
    "\n",
    "def month_iter(start_month, start_year, end_month, end_year):\n",
    "    start = datetime(start_year, start_month, 1)\n",
    "    end = datetime(end_year, end_month, 1)\n",
    "\n",
    "    return ((pad_date(d.month), pad_date(d.year)) for d in rrule(MONTHLY, dtstart=start, until=end))"
   ]
  },
  {
   "cell_type": "code",
   "execution_count": null,
   "metadata": {},
   "outputs": [
    {
     "name": "stdout",
     "output_type": "stream",
     "text": [
      "Downloading files for 2015-10\n",
      "OK: downloadedhttps://portalweb.cammesa.com/MEMNet1/Informe%20Mensual/Anteriores/BASE_INFORME_MENSUAL_2015-10.zip\n",
      "\n",
      "\n",
      "Downloading files for 2015-11\n",
      "OK: downloadedhttps://portalweb.cammesa.com/MEMNet1/Informe%20Mensual/Anteriores/BASE_INFORME_MENSUAL_2015-11.zip\n",
      "\n",
      "\n",
      "Downloading files for 2015-12\n"
     ]
    }
   ],
   "source": [
    "#Descarga de datos\n",
    "baseUrl = 'https://portalweb.cammesa.com/MEMNet1/Informe%20Mensual/Anteriores/BASE_INFORME_MENSUAL_'\n",
    "filePath = './' + dir + '/' + 'BASE_INFORME_MENSUAL_'\n",
    "\n",
    "for (month, year) in month_iter(sdate.month, sdate.year, edate.month, edate.year):\n",
    "    nameComponents = [year, month]\n",
    "    outFile = filePath + '-'.join(nameComponents) + '.zip'\n",
    " \n",
    "    print('Downloading files for ' + '-'.join(nameComponents))\n",
    "\n",
    "    url = baseUrl + '-'.join(nameComponents) + '.zip'\n",
    "    url2= baseUrl + '_'.join(nameComponents) + '.zip'\n",
    "    \n",
    "    try:\n",
    "        with urllib.request.urlopen(url) as r, open(outFile, 'wb') as out_file:\n",
    "            shutil.copyfileobj(r, out_file)\n",
    "            print('OK: downloaded' + url)\n",
    "    except:\n",
    "        try:\n",
    "            with urllib.request.urlopen(url2) as r, open(outFile, 'wb') as out_file:\n",
    "                shutil.copyfileobj(r, out_file)\n",
    "                print('OK: downloaded ' + url2)\n",
    "        except:\n",
    "            print('ERROR downloading ' + '-'.join(nameComponents))\n",
    "    print(\"\\n\")"
   ]
  }
 ],
 "metadata": {
  "kernelspec": {
   "display_name": "Python 3",
   "language": "python",
   "name": "python3"
  },
  "language_info": {
   "codemirror_mode": {
    "name": "ipython",
    "version": 3
   },
   "file_extension": ".py",
   "mimetype": "text/x-python",
   "name": "python",
   "nbconvert_exporter": "python",
   "pygments_lexer": "ipython3",
   "version": "3.7.6"
  }
 },
 "nbformat": 4,
 "nbformat_minor": 4
}
