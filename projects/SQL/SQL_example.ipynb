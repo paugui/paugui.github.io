{
 "cells": [
  {
   "cell_type": "markdown",
   "metadata": {},
   "source": [
    "# SQL Alfajores example\n",
    "\n",
    "## Running SQL in Jupyter"
   ]
  },
  {
   "cell_type": "code",
   "execution_count": 1,
   "metadata": {},
   "outputs": [],
   "source": [
    "#!pip install ipython-sql\n",
    "#!pip install pysqlite3\n",
    "\n",
    "import sqlalchemy as alchemy"
   ]
  },
  {
   "cell_type": "code",
   "execution_count": 2,
   "metadata": {},
   "outputs": [
    {
     "data": {
      "text/plain": [
       "Engine(sqlite:///alfajores.db)"
      ]
     },
     "execution_count": 2,
     "metadata": {},
     "output_type": "execute_result"
    }
   ],
   "source": [
    "alchemy.create_engine('sqlite:///alfajores.db')"
   ]
  },
  {
   "cell_type": "code",
   "execution_count": 3,
   "metadata": {},
   "outputs": [],
   "source": [
    "%load_ext sql"
   ]
  },
  {
   "cell_type": "code",
   "execution_count": 4,
   "metadata": {},
   "outputs": [
    {
     "data": {
      "text/plain": [
       "'Connected: @alfajores.db'"
      ]
     },
     "execution_count": 4,
     "metadata": {},
     "output_type": "execute_result"
    }
   ],
   "source": [
    "%sql sqlite:///alfajores.db"
   ]
  },
  {
   "cell_type": "markdown",
   "metadata": {},
   "source": [
    "## Creating tables\n",
    "It is required to use '%%sql' in Jupyter to indicate that is a SQL cell (if the code is executed in SQL it is not required). <br>\n",
    "Comments in SQL are: /* comment */. It can be used to avoid executing lines."
   ]
  },
  {
   "cell_type": "code",
   "execution_count": 5,
   "metadata": {},
   "outputs": [
    {
     "name": "stdout",
     "output_type": "stream",
     "text": [
      " * sqlite:///alfajores.db\n",
      "0 rows affected.\n"
     ]
    },
    {
     "data": {
      "text/plain": [
       "[]"
      ]
     },
     "execution_count": 5,
     "metadata": {},
     "output_type": "execute_result"
    }
   ],
   "source": [
    "%%sql\n",
    "\n",
    "/*DROP TABLE Movements;\n",
    "DROP TABLE Master_Prod;\n",
    "DROP TABLE Master_Prov;\n",
    "DROP TABLE Master_Brand;\n",
    "DROP TABLE Profit_by_dates;\n",
    "DROP TABLE Profit_by_brand;*/"
   ]
  },
  {
   "cell_type": "markdown",
   "metadata": {},
   "source": [
    "### Create table Master_Brand"
   ]
  },
  {
   "cell_type": "code",
   "execution_count": 6,
   "metadata": {},
   "outputs": [
    {
     "name": "stdout",
     "output_type": "stream",
     "text": [
      " * sqlite:///alfajores.db\n",
      "Done.\n"
     ]
    },
    {
     "data": {
      "text/plain": [
       "[]"
      ]
     },
     "execution_count": 6,
     "metadata": {},
     "output_type": "execute_result"
    }
   ],
   "source": [
    "%%sql\n",
    "\n",
    "CREATE TABLE Master_Brand\n",
    "(Cod_Brand integer PRIMARY KEY AUTOINCREMENT,\n",
    "Description varchar(50));"
   ]
  },
  {
   "cell_type": "code",
   "execution_count": 7,
   "metadata": {},
   "outputs": [
    {
     "name": "stdout",
     "output_type": "stream",
     "text": [
      " * sqlite:///alfajores.db\n",
      "1 rows affected.\n",
      "1 rows affected.\n",
      "1 rows affected.\n",
      "1 rows affected.\n"
     ]
    },
    {
     "data": {
      "text/plain": [
       "[]"
      ]
     },
     "execution_count": 7,
     "metadata": {},
     "output_type": "execute_result"
    }
   ],
   "source": [
    "%%sql\n",
    "\n",
    "INSERT INTO Master_Brand\n",
    "(Description)\n",
    "VALUES\n",
    "('Terrabusi');\n",
    "\n",
    "INSERT INTO Master_Brand\n",
    "(Description)\n",
    "VALUES\n",
    "('Havanna');\n",
    "\n",
    "INSERT INTO Master_Brand\n",
    "(Description)\n",
    "VALUES\n",
    "('Balcarce');\n",
    "\n",
    "INSERT INTO Master_Brand\n",
    "(Description)\n",
    "VALUES\n",
    "('Guaymallen');"
   ]
  },
  {
   "cell_type": "code",
   "execution_count": 8,
   "metadata": {},
   "outputs": [
    {
     "name": "stdout",
     "output_type": "stream",
     "text": [
      " * sqlite:///alfajores.db\n",
      "Done.\n"
     ]
    },
    {
     "data": {
      "text/html": [
       "<table>\n",
       "    <tr>\n",
       "        <th>Cod_Brand</th>\n",
       "        <th>Description</th>\n",
       "    </tr>\n",
       "    <tr>\n",
       "        <td>1</td>\n",
       "        <td>Terrabusi</td>\n",
       "    </tr>\n",
       "    <tr>\n",
       "        <td>2</td>\n",
       "        <td>Havanna</td>\n",
       "    </tr>\n",
       "    <tr>\n",
       "        <td>3</td>\n",
       "        <td>Balcarce</td>\n",
       "    </tr>\n",
       "    <tr>\n",
       "        <td>4</td>\n",
       "        <td>Guaymallen</td>\n",
       "    </tr>\n",
       "</table>"
      ],
      "text/plain": [
       "[(1, 'Terrabusi'), (2, 'Havanna'), (3, 'Balcarce'), (4, 'Guaymallen')]"
      ]
     },
     "execution_count": 8,
     "metadata": {},
     "output_type": "execute_result"
    }
   ],
   "source": [
    "%%sql\n",
    "\n",
    "SELECT *\n",
    "FROM Master_Brand;"
   ]
  },
  {
   "cell_type": "markdown",
   "metadata": {},
   "source": [
    "### Create table Master_Prov"
   ]
  },
  {
   "cell_type": "code",
   "execution_count": 9,
   "metadata": {},
   "outputs": [
    {
     "name": "stdout",
     "output_type": "stream",
     "text": [
      " * sqlite:///alfajores.db\n",
      "Done.\n"
     ]
    },
    {
     "data": {
      "text/plain": [
       "[]"
      ]
     },
     "execution_count": 9,
     "metadata": {},
     "output_type": "execute_result"
    }
   ],
   "source": [
    "%%sql\n",
    "\n",
    "CREATE TABLE Master_Prov\n",
    "(Cod_Prov integer primary key AUTOINCREMENT,\n",
    "Description varchar(50),\n",
    "Adress varchar(50),\n",
    "PhoneNumber integer);"
   ]
  },
  {
   "cell_type": "code",
   "execution_count": 10,
   "metadata": {},
   "outputs": [
    {
     "name": "stdout",
     "output_type": "stream",
     "text": [
      " * sqlite:///alfajores.db\n",
      "1 rows affected.\n",
      "1 rows affected.\n",
      "1 rows affected.\n"
     ]
    },
    {
     "data": {
      "text/plain": [
       "[]"
      ]
     },
     "execution_count": 10,
     "metadata": {},
     "output_type": "execute_result"
    }
   ],
   "source": [
    "%%sql\n",
    "\n",
    "INSERT INTO Master_Prov\n",
    "(Description, Adress, PhoneNumber)\n",
    "VALUES\n",
    "('Pedrito', 'Av. del Maestro 123, CABA', 45657898);\n",
    "\n",
    "INSERT INTO Master_Prov\n",
    "(Description, Adress, PhoneNumber)\n",
    "VALUES\n",
    "('Juancito', 'Papudo 48, CABA', 26428486);\n",
    "\n",
    "INSERT INTO Master_Prov\n",
    "(Description, Adress, PhoneNumber)\n",
    "VALUES\n",
    "('Pocho', 'Jacob Aals 45, CABA', 15846235);"
   ]
  },
  {
   "cell_type": "code",
   "execution_count": 11,
   "metadata": {},
   "outputs": [
    {
     "name": "stdout",
     "output_type": "stream",
     "text": [
      " * sqlite:///alfajores.db\n",
      "Done.\n"
     ]
    },
    {
     "data": {
      "text/html": [
       "<table>\n",
       "    <tr>\n",
       "        <th>Cod_Prov</th>\n",
       "        <th>Description</th>\n",
       "        <th>Adress</th>\n",
       "        <th>PhoneNumber</th>\n",
       "    </tr>\n",
       "    <tr>\n",
       "        <td>1</td>\n",
       "        <td>Pedrito</td>\n",
       "        <td>Av. del Maestro 123, CABA</td>\n",
       "        <td>45657898</td>\n",
       "    </tr>\n",
       "    <tr>\n",
       "        <td>2</td>\n",
       "        <td>Juancito</td>\n",
       "        <td>Papudo 48, CABA</td>\n",
       "        <td>26428486</td>\n",
       "    </tr>\n",
       "    <tr>\n",
       "        <td>3</td>\n",
       "        <td>Pocho</td>\n",
       "        <td>Jacob Aals 45, CABA</td>\n",
       "        <td>15846235</td>\n",
       "    </tr>\n",
       "</table>"
      ],
      "text/plain": [
       "[(1, 'Pedrito', 'Av. del Maestro 123, CABA', 45657898),\n",
       " (2, 'Juancito', 'Papudo 48, CABA', 26428486),\n",
       " (3, 'Pocho', 'Jacob Aals 45, CABA', 15846235)]"
      ]
     },
     "execution_count": 11,
     "metadata": {},
     "output_type": "execute_result"
    }
   ],
   "source": [
    "%%sql\n",
    "\n",
    "SELECT *\n",
    "FROM Master_Prov;"
   ]
  },
  {
   "cell_type": "markdown",
   "metadata": {},
   "source": [
    "### Create table Master_Prod"
   ]
  },
  {
   "cell_type": "code",
   "execution_count": 12,
   "metadata": {},
   "outputs": [
    {
     "name": "stdout",
     "output_type": "stream",
     "text": [
      " * sqlite:///alfajores.db\n",
      "Done.\n"
     ]
    },
    {
     "data": {
      "text/plain": [
       "[]"
      ]
     },
     "execution_count": 12,
     "metadata": {},
     "output_type": "execute_result"
    }
   ],
   "source": [
    "%%sql\n",
    "\n",
    "CREATE TABLE Master_Prod\n",
    "(Cod_Prod integer PRIMARY KEY AUTOINCREMENT,\n",
    "Cod_Brand integer REFERENCES Master_Brand(Cod_Brand),\n",
    "Cod_Prov integer REFERENCES Master_Prov(Cod_Prov),\n",
    "Description varchar(50));"
   ]
  },
  {
   "cell_type": "code",
   "execution_count": 13,
   "metadata": {},
   "outputs": [
    {
     "name": "stdout",
     "output_type": "stream",
     "text": [
      " * sqlite:///alfajores.db\n",
      "1 rows affected.\n",
      "1 rows affected.\n",
      "1 rows affected.\n",
      "1 rows affected.\n",
      "1 rows affected.\n",
      "1 rows affected.\n",
      "1 rows affected.\n",
      "1 rows affected.\n",
      "1 rows affected.\n",
      "1 rows affected.\n",
      "1 rows affected.\n",
      "1 rows affected.\n"
     ]
    },
    {
     "data": {
      "text/plain": [
       "[]"
      ]
     },
     "execution_count": 13,
     "metadata": {},
     "output_type": "execute_result"
    }
   ],
   "source": [
    "%%sql\n",
    "\n",
    "INSERT INTO Master_Prod\n",
    "(Cod_Brand, Cod_Prov, Description)\n",
    "VALUES\n",
    "(1, 1, 'Fruta');\n",
    "\n",
    "INSERT INTO Master_Prod\n",
    "(Cod_Brand, Cod_Prov, Description)\n",
    "VALUES\n",
    "(1, 1, 'Dulce de leche');\n",
    "\n",
    "INSERT INTO Master_Prod\n",
    "(Cod_Brand, Cod_Prov, Description)\n",
    "VALUES\n",
    "(2, 2, 'Nuez');\n",
    "\n",
    "INSERT INTO Master_Prod\n",
    "(Cod_Brand, Cod_Prov, Description)\n",
    "VALUES\n",
    "(3, 1, 'Fruta');\n",
    "\n",
    "INSERT INTO Master_Prod\n",
    "(Cod_Brand, Cod_Prov, Description)\n",
    "VALUES\n",
    "(3, 1, 'Chocolate');\n",
    "\n",
    "INSERT INTO Master_Prod\n",
    "(Cod_Brand, Cod_Prov, Description)\n",
    "VALUES\n",
    "(4, 3, 'Fruta');\n",
    "\n",
    "INSERT INTO Master_Prod\n",
    "(Cod_Brand, Cod_Prov, Description)\n",
    "VALUES\n",
    "(4, 3, 'Dulce de Leche');\n",
    "\n",
    "INSERT INTO Master_Prod\n",
    "(Cod_Brand, Cod_Prov, Description)\n",
    "VALUES\n",
    "(4, 3, 'Chocolate');\n",
    "\n",
    "INSERT INTO Master_Prod\n",
    "(Cod_Brand, Cod_Prov, Description)\n",
    "VALUES\n",
    "(1, 1, 'Nuez');\n",
    "\n",
    "INSERT INTO Master_Prod\n",
    "(Cod_Brand, Cod_Prov, Description)\n",
    "VALUES\n",
    "(2, 3, 'Chocolate');\n",
    "\n",
    "INSERT INTO Master_Prod\n",
    "(Cod_Brand, Cod_Prov, Description)\n",
    "VALUES\n",
    "(3, 2, 'Dulce de leche');\n",
    "\n",
    "INSERT INTO Master_Prod\n",
    "(Cod_Brand, Cod_Prov, Description)\n",
    "VALUES\n",
    "(3, 2, 'Nuez');"
   ]
  },
  {
   "cell_type": "code",
   "execution_count": 14,
   "metadata": {},
   "outputs": [
    {
     "name": "stdout",
     "output_type": "stream",
     "text": [
      " * sqlite:///alfajores.db\n",
      "Done.\n"
     ]
    },
    {
     "data": {
      "text/html": [
       "<table>\n",
       "    <tr>\n",
       "        <th>Cod_Prod</th>\n",
       "        <th>Cod_Brand</th>\n",
       "        <th>Cod_Prov</th>\n",
       "        <th>Description</th>\n",
       "    </tr>\n",
       "    <tr>\n",
       "        <td>1</td>\n",
       "        <td>1</td>\n",
       "        <td>1</td>\n",
       "        <td>Fruta</td>\n",
       "    </tr>\n",
       "    <tr>\n",
       "        <td>2</td>\n",
       "        <td>1</td>\n",
       "        <td>1</td>\n",
       "        <td>Dulce de leche</td>\n",
       "    </tr>\n",
       "    <tr>\n",
       "        <td>3</td>\n",
       "        <td>2</td>\n",
       "        <td>2</td>\n",
       "        <td>Nuez</td>\n",
       "    </tr>\n",
       "    <tr>\n",
       "        <td>4</td>\n",
       "        <td>3</td>\n",
       "        <td>1</td>\n",
       "        <td>Fruta</td>\n",
       "    </tr>\n",
       "    <tr>\n",
       "        <td>5</td>\n",
       "        <td>3</td>\n",
       "        <td>1</td>\n",
       "        <td>Chocolate</td>\n",
       "    </tr>\n",
       "    <tr>\n",
       "        <td>6</td>\n",
       "        <td>4</td>\n",
       "        <td>3</td>\n",
       "        <td>Fruta</td>\n",
       "    </tr>\n",
       "    <tr>\n",
       "        <td>7</td>\n",
       "        <td>4</td>\n",
       "        <td>3</td>\n",
       "        <td>Dulce de Leche</td>\n",
       "    </tr>\n",
       "    <tr>\n",
       "        <td>8</td>\n",
       "        <td>4</td>\n",
       "        <td>3</td>\n",
       "        <td>Chocolate</td>\n",
       "    </tr>\n",
       "    <tr>\n",
       "        <td>9</td>\n",
       "        <td>1</td>\n",
       "        <td>1</td>\n",
       "        <td>Nuez</td>\n",
       "    </tr>\n",
       "    <tr>\n",
       "        <td>10</td>\n",
       "        <td>2</td>\n",
       "        <td>3</td>\n",
       "        <td>Chocolate</td>\n",
       "    </tr>\n",
       "    <tr>\n",
       "        <td>11</td>\n",
       "        <td>3</td>\n",
       "        <td>2</td>\n",
       "        <td>Dulce de leche</td>\n",
       "    </tr>\n",
       "    <tr>\n",
       "        <td>12</td>\n",
       "        <td>3</td>\n",
       "        <td>2</td>\n",
       "        <td>Nuez</td>\n",
       "    </tr>\n",
       "</table>"
      ],
      "text/plain": [
       "[(1, 1, 1, 'Fruta'),\n",
       " (2, 1, 1, 'Dulce de leche'),\n",
       " (3, 2, 2, 'Nuez'),\n",
       " (4, 3, 1, 'Fruta'),\n",
       " (5, 3, 1, 'Chocolate'),\n",
       " (6, 4, 3, 'Fruta'),\n",
       " (7, 4, 3, 'Dulce de Leche'),\n",
       " (8, 4, 3, 'Chocolate'),\n",
       " (9, 1, 1, 'Nuez'),\n",
       " (10, 2, 3, 'Chocolate'),\n",
       " (11, 3, 2, 'Dulce de leche'),\n",
       " (12, 3, 2, 'Nuez')]"
      ]
     },
     "execution_count": 14,
     "metadata": {},
     "output_type": "execute_result"
    }
   ],
   "source": [
    "%%sql\n",
    "\n",
    "SELECT *\n",
    "FROM Master_Prod;"
   ]
  },
  {
   "cell_type": "markdown",
   "metadata": {},
   "source": [
    "### Create table Movements"
   ]
  },
  {
   "cell_type": "code",
   "execution_count": 15,
   "metadata": {},
   "outputs": [
    {
     "name": "stdout",
     "output_type": "stream",
     "text": [
      " * sqlite:///alfajores.db\n",
      "Done.\n"
     ]
    },
    {
     "data": {
      "text/plain": [
       "[]"
      ]
     },
     "execution_count": 15,
     "metadata": {},
     "output_type": "execute_result"
    }
   ],
   "source": [
    "%%sql\n",
    "\n",
    "CREATE TABLE Movements\n",
    "(Cod_Mov integer PRIMARY KEY AUTOINCREMENT,\n",
    "Cod_Prod integer REFERENCES Master_Prod(Cod_Prod),\n",
    "Date date,\n",
    "Quantity integer,\n",
    "Cost float,\n",
    "Price float);"
   ]
  },
  {
   "cell_type": "code",
   "execution_count": 16,
   "metadata": {},
   "outputs": [
    {
     "name": "stdout",
     "output_type": "stream",
     "text": [
      " * sqlite:///alfajores.db\n",
      "1 rows affected.\n",
      "1 rows affected.\n",
      "1 rows affected.\n",
      "1 rows affected.\n",
      "1 rows affected.\n",
      "1 rows affected.\n",
      "1 rows affected.\n",
      "1 rows affected.\n",
      "1 rows affected.\n",
      "1 rows affected.\n",
      "1 rows affected.\n",
      "1 rows affected.\n"
     ]
    },
    {
     "data": {
      "text/plain": [
       "[]"
      ]
     },
     "execution_count": 16,
     "metadata": {},
     "output_type": "execute_result"
    }
   ],
   "source": [
    "%%sql\n",
    "\n",
    "INSERT INTO Movements\n",
    "(Cod_Prod, Date, Quantity, Cost, Price)\n",
    "VALUES\n",
    "(1, '2019-01-11', 4, 25.11, 36.45);\n",
    "\n",
    "INSERT INTO Movements\n",
    "(Cod_Prod, Date, Quantity, Cost, Price)\n",
    "VALUES\n",
    "(2, '2019-01-13', 8, 27.11, 38.45);\n",
    "\n",
    "INSERT INTO Movements\n",
    "(Cod_Prod, Date, Quantity, Cost, Price)\n",
    "VALUES\n",
    "(3, '2019-01-13', 4, 24.11, 40.45);\n",
    "\n",
    "INSERT INTO Movements\n",
    "(Cod_Prod, Date, Quantity, Cost, Price)\n",
    "VALUES\n",
    "(4, '2019-01-15', 1, 28.11, 42.45);\n",
    "\n",
    "INSERT INTO Movements\n",
    "(Cod_Prod, Date, Quantity, Cost, Price)\n",
    "VALUES\n",
    "(5, '2019-01-17', 2, 28.11, 42.45);\n",
    "\n",
    "INSERT INTO Movements\n",
    "(Cod_Prod, Date, Quantity, Cost, Price)\n",
    "VALUES\n",
    "(6, '2019-01-17', 3, 22.11, 38.22);\n",
    "\n",
    "INSERT INTO Movements\n",
    "(Cod_Prod, Date, Quantity, Cost, Price)\n",
    "VALUES\n",
    "(2, '2019-02-19', 4, 27.11, 38.45);\n",
    "\n",
    "INSERT INTO Movements\n",
    "(Cod_Prod, Date, Quantity, Cost, Price)\n",
    "VALUES\n",
    "(8, '2019-02-21', 1, 33.12, 54.65);\n",
    "\n",
    "INSERT INTO Movements\n",
    "(Cod_Prod, Date, Quantity, Cost, Price)\n",
    "VALUES\n",
    "(3, '2019-03-01', 4, 24.11, 40.45);\n",
    "\n",
    "INSERT INTO Movements\n",
    "(Cod_Prod, Date, Quantity, Cost, Price)\n",
    "VALUES\n",
    "(8, '2019-03-11', 2, 33.12, 54.65);\n",
    "\n",
    "INSERT INTO Movements\n",
    "(Cod_Prod, Date, Quantity, Cost, Price)\n",
    "VALUES\n",
    "(1, '2019-04-01', 4, 25.11, 36.45);\n",
    "\n",
    "INSERT INTO Movements\n",
    "(Cod_Prod, Date, Quantity, Cost, Price)\n",
    "VALUES\n",
    "(6, '2019-04-05', 3, 22.11, 38.22);"
   ]
  },
  {
   "cell_type": "code",
   "execution_count": 17,
   "metadata": {},
   "outputs": [
    {
     "name": "stdout",
     "output_type": "stream",
     "text": [
      " * sqlite:///alfajores.db\n",
      "Done.\n"
     ]
    },
    {
     "data": {
      "text/html": [
       "<table>\n",
       "    <tr>\n",
       "        <th>Cod_Mov</th>\n",
       "        <th>Cod_Prod</th>\n",
       "        <th>Date</th>\n",
       "        <th>Quantity</th>\n",
       "        <th>Cost</th>\n",
       "        <th>Price</th>\n",
       "    </tr>\n",
       "    <tr>\n",
       "        <td>1</td>\n",
       "        <td>1</td>\n",
       "        <td>2019-01-11</td>\n",
       "        <td>4</td>\n",
       "        <td>25.11</td>\n",
       "        <td>36.45</td>\n",
       "    </tr>\n",
       "    <tr>\n",
       "        <td>2</td>\n",
       "        <td>2</td>\n",
       "        <td>2019-01-13</td>\n",
       "        <td>8</td>\n",
       "        <td>27.11</td>\n",
       "        <td>38.45</td>\n",
       "    </tr>\n",
       "    <tr>\n",
       "        <td>3</td>\n",
       "        <td>3</td>\n",
       "        <td>2019-01-13</td>\n",
       "        <td>4</td>\n",
       "        <td>24.11</td>\n",
       "        <td>40.45</td>\n",
       "    </tr>\n",
       "    <tr>\n",
       "        <td>4</td>\n",
       "        <td>4</td>\n",
       "        <td>2019-01-15</td>\n",
       "        <td>1</td>\n",
       "        <td>28.11</td>\n",
       "        <td>42.45</td>\n",
       "    </tr>\n",
       "    <tr>\n",
       "        <td>5</td>\n",
       "        <td>5</td>\n",
       "        <td>2019-01-17</td>\n",
       "        <td>2</td>\n",
       "        <td>28.11</td>\n",
       "        <td>42.45</td>\n",
       "    </tr>\n",
       "    <tr>\n",
       "        <td>6</td>\n",
       "        <td>6</td>\n",
       "        <td>2019-01-17</td>\n",
       "        <td>3</td>\n",
       "        <td>22.11</td>\n",
       "        <td>38.22</td>\n",
       "    </tr>\n",
       "    <tr>\n",
       "        <td>7</td>\n",
       "        <td>2</td>\n",
       "        <td>2019-02-19</td>\n",
       "        <td>4</td>\n",
       "        <td>27.11</td>\n",
       "        <td>38.45</td>\n",
       "    </tr>\n",
       "    <tr>\n",
       "        <td>8</td>\n",
       "        <td>8</td>\n",
       "        <td>2019-02-21</td>\n",
       "        <td>1</td>\n",
       "        <td>33.12</td>\n",
       "        <td>54.65</td>\n",
       "    </tr>\n",
       "    <tr>\n",
       "        <td>9</td>\n",
       "        <td>3</td>\n",
       "        <td>2019-03-01</td>\n",
       "        <td>4</td>\n",
       "        <td>24.11</td>\n",
       "        <td>40.45</td>\n",
       "    </tr>\n",
       "    <tr>\n",
       "        <td>10</td>\n",
       "        <td>8</td>\n",
       "        <td>2019-03-11</td>\n",
       "        <td>2</td>\n",
       "        <td>33.12</td>\n",
       "        <td>54.65</td>\n",
       "    </tr>\n",
       "    <tr>\n",
       "        <td>11</td>\n",
       "        <td>1</td>\n",
       "        <td>2019-04-01</td>\n",
       "        <td>4</td>\n",
       "        <td>25.11</td>\n",
       "        <td>36.45</td>\n",
       "    </tr>\n",
       "    <tr>\n",
       "        <td>12</td>\n",
       "        <td>6</td>\n",
       "        <td>2019-04-05</td>\n",
       "        <td>3</td>\n",
       "        <td>22.11</td>\n",
       "        <td>38.22</td>\n",
       "    </tr>\n",
       "</table>"
      ],
      "text/plain": [
       "[(1, 1, '2019-01-11', 4, 25.11, 36.45),\n",
       " (2, 2, '2019-01-13', 8, 27.11, 38.45),\n",
       " (3, 3, '2019-01-13', 4, 24.11, 40.45),\n",
       " (4, 4, '2019-01-15', 1, 28.11, 42.45),\n",
       " (5, 5, '2019-01-17', 2, 28.11, 42.45),\n",
       " (6, 6, '2019-01-17', 3, 22.11, 38.22),\n",
       " (7, 2, '2019-02-19', 4, 27.11, 38.45),\n",
       " (8, 8, '2019-02-21', 1, 33.12, 54.65),\n",
       " (9, 3, '2019-03-01', 4, 24.11, 40.45),\n",
       " (10, 8, '2019-03-11', 2, 33.12, 54.65),\n",
       " (11, 1, '2019-04-01', 4, 25.11, 36.45),\n",
       " (12, 6, '2019-04-05', 3, 22.11, 38.22)]"
      ]
     },
     "execution_count": 17,
     "metadata": {},
     "output_type": "execute_result"
    }
   ],
   "source": [
    "%%sql\n",
    "\n",
    "SELECT *\n",
    "FROM Movements;"
   ]
  },
  {
   "cell_type": "markdown",
   "metadata": {},
   "source": [
    "## Queries\n",
    "\n",
    "1. Total of Sales, Cost, and Profit."
   ]
  },
  {
   "cell_type": "code",
   "execution_count": 18,
   "metadata": {},
   "outputs": [
    {
     "name": "stdout",
     "output_type": "stream",
     "text": [
      " * sqlite:///alfajores.db\n",
      "Done.\n"
     ]
    },
    {
     "data": {
      "text/html": [
       "<table>\n",
       "    <tr>\n",
       "        <th>TotalSales</th>\n",
       "        <th>TotalCost</th>\n",
       "        <th>TotalProfit</th>\n",
       "    </tr>\n",
       "    <tr>\n",
       "        <td>1597.22</td>\n",
       "        <td>1035.43</td>\n",
       "        <td>561.79</td>\n",
       "    </tr>\n",
       "</table>"
      ],
      "text/plain": [
       "[(1597.22, 1035.43, 561.79)]"
      ]
     },
     "execution_count": 18,
     "metadata": {},
     "output_type": "execute_result"
    }
   ],
   "source": [
    "%%sql\n",
    "\n",
    "SELECT sum(Quantity * Price) TotalSales,\n",
    "        sum(Quantity * Cost) TotalCost, \n",
    "        (sum(Quantity * Price) - sum(Quantity * Cost)) TotalProfit\n",
    "FROM Movements"
   ]
  },
  {
   "cell_type": "markdown",
   "metadata": {},
   "source": [
    "2.\tTotal of Sales, Cost, and Profit, grouped by Date."
   ]
  },
  {
   "cell_type": "code",
   "execution_count": 19,
   "metadata": {},
   "outputs": [
    {
     "name": "stdout",
     "output_type": "stream",
     "text": [
      " * sqlite:///alfajores.db\n",
      "Done.\n"
     ]
    },
    {
     "data": {
      "text/html": [
       "<table>\n",
       "    <tr>\n",
       "        <th>Date</th>\n",
       "        <th>TotalSales</th>\n",
       "        <th>TotalCost</th>\n",
       "        <th>TotalProfit</th>\n",
       "    </tr>\n",
       "    <tr>\n",
       "        <td>2019-01-11</td>\n",
       "        <td>100.44</td>\n",
       "        <td>145.8</td>\n",
       "        <td>45.36</td>\n",
       "    </tr>\n",
       "    <tr>\n",
       "        <td>2019-01-13</td>\n",
       "        <td>313.32</td>\n",
       "        <td>469.4</td>\n",
       "        <td>156.08</td>\n",
       "    </tr>\n",
       "    <tr>\n",
       "        <td>2019-01-15</td>\n",
       "        <td>28.11</td>\n",
       "        <td>42.45</td>\n",
       "        <td>14.34</td>\n",
       "    </tr>\n",
       "    <tr>\n",
       "        <td>2019-01-17</td>\n",
       "        <td>122.55</td>\n",
       "        <td>199.56</td>\n",
       "        <td>77.01</td>\n",
       "    </tr>\n",
       "    <tr>\n",
       "        <td>2019-02-19</td>\n",
       "        <td>108.44</td>\n",
       "        <td>153.8</td>\n",
       "        <td>45.36</td>\n",
       "    </tr>\n",
       "    <tr>\n",
       "        <td>2019-02-21</td>\n",
       "        <td>33.12</td>\n",
       "        <td>54.65</td>\n",
       "        <td>21.53</td>\n",
       "    </tr>\n",
       "    <tr>\n",
       "        <td>2019-03-01</td>\n",
       "        <td>96.44</td>\n",
       "        <td>161.8</td>\n",
       "        <td>65.36</td>\n",
       "    </tr>\n",
       "    <tr>\n",
       "        <td>2019-03-11</td>\n",
       "        <td>66.24</td>\n",
       "        <td>109.3</td>\n",
       "        <td>43.06</td>\n",
       "    </tr>\n",
       "    <tr>\n",
       "        <td>2019-04-01</td>\n",
       "        <td>100.44</td>\n",
       "        <td>145.8</td>\n",
       "        <td>45.36</td>\n",
       "    </tr>\n",
       "    <tr>\n",
       "        <td>2019-04-05</td>\n",
       "        <td>66.33</td>\n",
       "        <td>114.66</td>\n",
       "        <td>48.33</td>\n",
       "    </tr>\n",
       "</table>"
      ],
      "text/plain": [
       "[('2019-01-11', 100.44, 145.8, 45.36),\n",
       " ('2019-01-13', 313.32, 469.4, 156.08),\n",
       " ('2019-01-15', 28.11, 42.45, 14.34),\n",
       " ('2019-01-17', 122.55, 199.56, 77.01),\n",
       " ('2019-02-19', 108.44, 153.8, 45.36),\n",
       " ('2019-02-21', 33.12, 54.65, 21.53),\n",
       " ('2019-03-01', 96.44, 161.8, 65.36),\n",
       " ('2019-03-11', 66.24, 109.3, 43.06),\n",
       " ('2019-04-01', 100.44, 145.8, 45.36),\n",
       " ('2019-04-05', 66.33, 114.66, 48.33)]"
      ]
     },
     "execution_count": 19,
     "metadata": {},
     "output_type": "execute_result"
    }
   ],
   "source": [
    "%%sql\n",
    "\n",
    "SELECT Date, \n",
    "        round(sum(Quantity * Cost),2) TotalSales, \n",
    "        round(sum(Quantity * Price),2) TotalCost,\n",
    "        round((sum(Quantity * Price) - sum(Quantity * Cost)),2) TotalProfit\n",
    "FROM Movements\n",
    "GROUP BY Date\n"
   ]
  },
  {
   "cell_type": "markdown",
   "metadata": {},
   "source": [
    "3.\tTotal of Sales, Cost, and Profit, grouped by Provider."
   ]
  },
  {
   "cell_type": "code",
   "execution_count": 20,
   "metadata": {},
   "outputs": [
    {
     "name": "stdout",
     "output_type": "stream",
     "text": [
      " * sqlite:///alfajores.db\n",
      "Done.\n"
     ]
    },
    {
     "data": {
      "text/html": [
       "<table>\n",
       "    <tr>\n",
       "        <th>Cod_Prov</th>\n",
       "        <th>Description</th>\n",
       "        <th>TotalSales</th>\n",
       "        <th>TotalCost</th>\n",
       "        <th>TotalProfit</th>\n",
       "    </tr>\n",
       "    <tr>\n",
       "        <td>1</td>\n",
       "        <td>Pedrito</td>\n",
       "        <td>610.53</td>\n",
       "        <td>880.35</td>\n",
       "        <td>269.82</td>\n",
       "    </tr>\n",
       "    <tr>\n",
       "        <td>2</td>\n",
       "        <td>Juancito</td>\n",
       "        <td>192.88</td>\n",
       "        <td>323.6</td>\n",
       "        <td>130.72</td>\n",
       "    </tr>\n",
       "    <tr>\n",
       "        <td>3</td>\n",
       "        <td>Pocho</td>\n",
       "        <td>232.02</td>\n",
       "        <td>393.27</td>\n",
       "        <td>161.25</td>\n",
       "    </tr>\n",
       "</table>"
      ],
      "text/plain": [
       "[(1, 'Pedrito', 610.53, 880.35, 269.82),\n",
       " (2, 'Juancito', 192.88, 323.6, 130.72),\n",
       " (3, 'Pocho', 232.02, 393.27, 161.25)]"
      ]
     },
     "execution_count": 20,
     "metadata": {},
     "output_type": "execute_result"
    }
   ],
   "source": [
    "%%sql\n",
    "\n",
    "SELECT PR.Cod_Prov,\n",
    "        PR.Description,\n",
    "        round(sum(Quantity * Cost),2) TotalSales, \n",
    "        round(sum(Quantity * Price),2) TotalCost,\n",
    "        round((sum(Quantity * Price) - sum(Quantity * Cost)),2) TotalProfit\n",
    "FROM Movements M\n",
    "    INNER JOIN Master_Prod P ON M.Cod_Prod = P. Cod_Prod\n",
    "    INNER JOIN Master_Prov PR ON P.Cod_Prov = PR.Cod_Prov\n",
    "GROUP BY PR.Cod_Prov"
   ]
  },
  {
   "cell_type": "markdown",
   "metadata": {},
   "source": [
    "4. Average Price per Brand."
   ]
  },
  {
   "cell_type": "code",
   "execution_count": 21,
   "metadata": {},
   "outputs": [
    {
     "name": "stdout",
     "output_type": "stream",
     "text": [
      " * sqlite:///alfajores.db\n",
      "Done.\n"
     ]
    },
    {
     "data": {
      "text/html": [
       "<table>\n",
       "    <tr>\n",
       "        <th>Description</th>\n",
       "        <th>AveragePrice</th>\n",
       "    </tr>\n",
       "    <tr>\n",
       "        <td>Balcarce</td>\n",
       "        <td>42.45</td>\n",
       "    </tr>\n",
       "    <tr>\n",
       "        <td>Guaymallen</td>\n",
       "        <td>46.44</td>\n",
       "    </tr>\n",
       "    <tr>\n",
       "        <td>Havanna</td>\n",
       "        <td>40.45</td>\n",
       "    </tr>\n",
       "    <tr>\n",
       "        <td>Terrabusi</td>\n",
       "        <td>37.45</td>\n",
       "    </tr>\n",
       "</table>"
      ],
      "text/plain": [
       "[('Balcarce', 42.45),\n",
       " ('Guaymallen', 46.44),\n",
       " ('Havanna', 40.45),\n",
       " ('Terrabusi', 37.45)]"
      ]
     },
     "execution_count": 21,
     "metadata": {},
     "output_type": "execute_result"
    }
   ],
   "source": [
    "%%sql\n",
    "\n",
    "SELECT Ma.Description, round(AVG(Price),2) AveragePrice\n",
    "FROM Movements M\n",
    "    INNER JOIN Master_Prod P ON M.Cod_Prod = P.Cod_Prod\n",
    "    INNER JOIN Master_Brand Ma ON P.Cod_Brand = Ma.Cod_Brand\n",
    "GROUP BY Ma.Description"
   ]
  },
  {
   "cell_type": "markdown",
   "metadata": {},
   "source": [
    "5. Average Price per Product."
   ]
  },
  {
   "cell_type": "code",
   "execution_count": 22,
   "metadata": {},
   "outputs": [
    {
     "name": "stdout",
     "output_type": "stream",
     "text": [
      " * sqlite:///alfajores.db\n",
      "Done.\n"
     ]
    },
    {
     "data": {
      "text/html": [
       "<table>\n",
       "    <tr>\n",
       "        <th>Description</th>\n",
       "        <th>AveragePrice</th>\n",
       "    </tr>\n",
       "    <tr>\n",
       "        <td>Chocolate</td>\n",
       "        <td>50.58</td>\n",
       "    </tr>\n",
       "    <tr>\n",
       "        <td>Dulce de leche</td>\n",
       "        <td>38.45</td>\n",
       "    </tr>\n",
       "    <tr>\n",
       "        <td>Fruta</td>\n",
       "        <td>38.36</td>\n",
       "    </tr>\n",
       "    <tr>\n",
       "        <td>Nuez</td>\n",
       "        <td>40.45</td>\n",
       "    </tr>\n",
       "</table>"
      ],
      "text/plain": [
       "[('Chocolate', 50.58),\n",
       " ('Dulce de leche', 38.45),\n",
       " ('Fruta', 38.36),\n",
       " ('Nuez', 40.45)]"
      ]
     },
     "execution_count": 22,
     "metadata": {},
     "output_type": "execute_result"
    }
   ],
   "source": [
    "%%sql\n",
    "\n",
    "SELECT P.Description, round(AVG(Price),2) AveragePrice\n",
    "FROM Movements M\n",
    "    INNER JOIN Master_Prod P ON M.Cod_Prod = P.Cod_Prod\n",
    "    INNER JOIN Master_Brand B ON P.Cod_Brand = B.Cod_Brand\n",
    "GROUP BY P.Description"
   ]
  },
  {
   "cell_type": "markdown",
   "metadata": {},
   "source": [
    "6. Generate a list of all movements with the following content:<br>\n",
    ". Date (Order by this field)<br>\n",
    ". Product description<br>\n",
    ". Brand Description<br>\n",
    ". Provider Description<br>\n",
    ". Quantity<br>\n",
    ". Cost<br>\n",
    ". Sales <br>\n",
    ". Profit<br>"
   ]
  },
  {
   "cell_type": "code",
   "execution_count": 23,
   "metadata": {},
   "outputs": [
    {
     "name": "stdout",
     "output_type": "stream",
     "text": [
      " * sqlite:///alfajores.db\n",
      "Done.\n"
     ]
    },
    {
     "data": {
      "text/html": [
       "<table>\n",
       "    <tr>\n",
       "        <th>Date</th>\n",
       "        <th>Product</th>\n",
       "        <th>Brand</th>\n",
       "        <th>Provider</th>\n",
       "        <th>Quantity</th>\n",
       "        <th>Cost</th>\n",
       "        <th>Sales</th>\n",
       "        <th>Profit</th>\n",
       "    </tr>\n",
       "    <tr>\n",
       "        <td>2019-01-11</td>\n",
       "        <td>Fruta</td>\n",
       "        <td>Terrabusi</td>\n",
       "        <td>Pedrito</td>\n",
       "        <td>4</td>\n",
       "        <td>100.44</td>\n",
       "        <td>145.8</td>\n",
       "        <td>45.36</td>\n",
       "    </tr>\n",
       "    <tr>\n",
       "        <td>2019-01-13</td>\n",
       "        <td>Dulce de leche</td>\n",
       "        <td>Terrabusi</td>\n",
       "        <td>Pedrito</td>\n",
       "        <td>8</td>\n",
       "        <td>216.88</td>\n",
       "        <td>307.6</td>\n",
       "        <td>90.72</td>\n",
       "    </tr>\n",
       "    <tr>\n",
       "        <td>2019-01-13</td>\n",
       "        <td>Nuez</td>\n",
       "        <td>Havanna</td>\n",
       "        <td>Juancito</td>\n",
       "        <td>4</td>\n",
       "        <td>96.44</td>\n",
       "        <td>161.8</td>\n",
       "        <td>65.36</td>\n",
       "    </tr>\n",
       "    <tr>\n",
       "        <td>2019-01-15</td>\n",
       "        <td>Fruta</td>\n",
       "        <td>Balcarce</td>\n",
       "        <td>Pedrito</td>\n",
       "        <td>1</td>\n",
       "        <td>28.11</td>\n",
       "        <td>42.45</td>\n",
       "        <td>14.34</td>\n",
       "    </tr>\n",
       "    <tr>\n",
       "        <td>2019-01-17</td>\n",
       "        <td>Chocolate</td>\n",
       "        <td>Balcarce</td>\n",
       "        <td>Pedrito</td>\n",
       "        <td>2</td>\n",
       "        <td>56.22</td>\n",
       "        <td>84.9</td>\n",
       "        <td>28.68</td>\n",
       "    </tr>\n",
       "    <tr>\n",
       "        <td>2019-01-17</td>\n",
       "        <td>Fruta</td>\n",
       "        <td>Guaymallen</td>\n",
       "        <td>Pocho</td>\n",
       "        <td>3</td>\n",
       "        <td>66.33</td>\n",
       "        <td>114.66</td>\n",
       "        <td>48.33</td>\n",
       "    </tr>\n",
       "    <tr>\n",
       "        <td>2019-02-19</td>\n",
       "        <td>Dulce de leche</td>\n",
       "        <td>Terrabusi</td>\n",
       "        <td>Pedrito</td>\n",
       "        <td>4</td>\n",
       "        <td>108.44</td>\n",
       "        <td>153.8</td>\n",
       "        <td>45.36</td>\n",
       "    </tr>\n",
       "    <tr>\n",
       "        <td>2019-02-21</td>\n",
       "        <td>Chocolate</td>\n",
       "        <td>Guaymallen</td>\n",
       "        <td>Pocho</td>\n",
       "        <td>1</td>\n",
       "        <td>33.12</td>\n",
       "        <td>54.65</td>\n",
       "        <td>21.53</td>\n",
       "    </tr>\n",
       "    <tr>\n",
       "        <td>2019-03-01</td>\n",
       "        <td>Nuez</td>\n",
       "        <td>Havanna</td>\n",
       "        <td>Juancito</td>\n",
       "        <td>4</td>\n",
       "        <td>96.44</td>\n",
       "        <td>161.8</td>\n",
       "        <td>65.36</td>\n",
       "    </tr>\n",
       "    <tr>\n",
       "        <td>2019-03-11</td>\n",
       "        <td>Chocolate</td>\n",
       "        <td>Guaymallen</td>\n",
       "        <td>Pocho</td>\n",
       "        <td>2</td>\n",
       "        <td>66.24</td>\n",
       "        <td>109.3</td>\n",
       "        <td>43.06</td>\n",
       "    </tr>\n",
       "    <tr>\n",
       "        <td>2019-04-01</td>\n",
       "        <td>Fruta</td>\n",
       "        <td>Terrabusi</td>\n",
       "        <td>Pedrito</td>\n",
       "        <td>4</td>\n",
       "        <td>100.44</td>\n",
       "        <td>145.8</td>\n",
       "        <td>45.36</td>\n",
       "    </tr>\n",
       "    <tr>\n",
       "        <td>2019-04-05</td>\n",
       "        <td>Fruta</td>\n",
       "        <td>Guaymallen</td>\n",
       "        <td>Pocho</td>\n",
       "        <td>3</td>\n",
       "        <td>66.33</td>\n",
       "        <td>114.66</td>\n",
       "        <td>48.33</td>\n",
       "    </tr>\n",
       "</table>"
      ],
      "text/plain": [
       "[('2019-01-11', 'Fruta', 'Terrabusi', 'Pedrito', 4, 100.44, 145.8, 45.36),\n",
       " ('2019-01-13', 'Dulce de leche', 'Terrabusi', 'Pedrito', 8, 216.88, 307.6, 90.72),\n",
       " ('2019-01-13', 'Nuez', 'Havanna', 'Juancito', 4, 96.44, 161.8, 65.36),\n",
       " ('2019-01-15', 'Fruta', 'Balcarce', 'Pedrito', 1, 28.11, 42.45, 14.34),\n",
       " ('2019-01-17', 'Chocolate', 'Balcarce', 'Pedrito', 2, 56.22, 84.9, 28.68),\n",
       " ('2019-01-17', 'Fruta', 'Guaymallen', 'Pocho', 3, 66.33, 114.66, 48.33),\n",
       " ('2019-02-19', 'Dulce de leche', 'Terrabusi', 'Pedrito', 4, 108.44, 153.8, 45.36),\n",
       " ('2019-02-21', 'Chocolate', 'Guaymallen', 'Pocho', 1, 33.12, 54.65, 21.53),\n",
       " ('2019-03-01', 'Nuez', 'Havanna', 'Juancito', 4, 96.44, 161.8, 65.36),\n",
       " ('2019-03-11', 'Chocolate', 'Guaymallen', 'Pocho', 2, 66.24, 109.3, 43.06),\n",
       " ('2019-04-01', 'Fruta', 'Terrabusi', 'Pedrito', 4, 100.44, 145.8, 45.36),\n",
       " ('2019-04-05', 'Fruta', 'Guaymallen', 'Pocho', 3, 66.33, 114.66, 48.33)]"
      ]
     },
     "execution_count": 23,
     "metadata": {},
     "output_type": "execute_result"
    }
   ],
   "source": [
    "%%sql\n",
    "\n",
    "SELECT M.Date, P.Description Product, Ma.Description Brand, \n",
    "        Pr.Description Provider, M.Quantity, \n",
    "        (Quantity*M.Cost) as Cost, \n",
    "        (Quantity* M.Price) as Sales, \n",
    "        round((Quantity *M.Price-Quantity*M.Cost),2) as Profit\n",
    "FROM Movements M\n",
    "    INNER JOIN Master_Prod P ON M.Cod_Prod = P.Cod_Prod\n",
    "    INNER JOIN Master_Brand Ma ON P.Cod_Brand = Ma.Cod_Brand\n",
    "    INNER JOIN Master_Prov Pr ON P.Cod_Prov = Pr.Cod_Prov\n",
    "ORDER BY M.Date"
   ]
  },
  {
   "cell_type": "markdown",
   "metadata": {},
   "source": [
    "7. Create a table with the Profit grouped by Dates."
   ]
  },
  {
   "cell_type": "code",
   "execution_count": 24,
   "metadata": {},
   "outputs": [
    {
     "name": "stdout",
     "output_type": "stream",
     "text": [
      " * sqlite:///alfajores.db\n",
      "Done.\n"
     ]
    },
    {
     "data": {
      "text/plain": [
       "[]"
      ]
     },
     "execution_count": 24,
     "metadata": {},
     "output_type": "execute_result"
    }
   ],
   "source": [
    "%%sql\n",
    "\n",
    "CREATE TABLE Profit_by_dates\n",
    "(Date date,\n",
    "Profit integer);"
   ]
  },
  {
   "cell_type": "code",
   "execution_count": 25,
   "metadata": {},
   "outputs": [
    {
     "name": "stdout",
     "output_type": "stream",
     "text": [
      " * sqlite:///alfajores.db\n",
      "10 rows affected.\n",
      "Done.\n"
     ]
    },
    {
     "data": {
      "text/html": [
       "<table>\n",
       "    <tr>\n",
       "        <th>Date</th>\n",
       "        <th>Profit</th>\n",
       "    </tr>\n",
       "    <tr>\n",
       "        <td>2019-01-11</td>\n",
       "        <td>45.36</td>\n",
       "    </tr>\n",
       "    <tr>\n",
       "        <td>2019-01-13</td>\n",
       "        <td>90.72</td>\n",
       "    </tr>\n",
       "    <tr>\n",
       "        <td>2019-01-15</td>\n",
       "        <td>14.34</td>\n",
       "    </tr>\n",
       "    <tr>\n",
       "        <td>2019-01-17</td>\n",
       "        <td>28.68</td>\n",
       "    </tr>\n",
       "    <tr>\n",
       "        <td>2019-02-19</td>\n",
       "        <td>45.36</td>\n",
       "    </tr>\n",
       "    <tr>\n",
       "        <td>2019-02-21</td>\n",
       "        <td>21.53</td>\n",
       "    </tr>\n",
       "    <tr>\n",
       "        <td>2019-03-01</td>\n",
       "        <td>65.36</td>\n",
       "    </tr>\n",
       "    <tr>\n",
       "        <td>2019-03-11</td>\n",
       "        <td>43.06</td>\n",
       "    </tr>\n",
       "    <tr>\n",
       "        <td>2019-04-01</td>\n",
       "        <td>45.36</td>\n",
       "    </tr>\n",
       "    <tr>\n",
       "        <td>2019-04-05</td>\n",
       "        <td>48.33</td>\n",
       "    </tr>\n",
       "</table>"
      ],
      "text/plain": [
       "[('2019-01-11', 45.36),\n",
       " ('2019-01-13', 90.72),\n",
       " ('2019-01-15', 14.34),\n",
       " ('2019-01-17', 28.68),\n",
       " ('2019-02-19', 45.36),\n",
       " ('2019-02-21', 21.53),\n",
       " ('2019-03-01', 65.36),\n",
       " ('2019-03-11', 43.06),\n",
       " ('2019-04-01', 45.36),\n",
       " ('2019-04-05', 48.33)]"
      ]
     },
     "execution_count": 25,
     "metadata": {},
     "output_type": "execute_result"
    }
   ],
   "source": [
    "%%sql\n",
    "\n",
    "INSERT INTO Profit_by_dates\n",
    "(Date, Profit)\n",
    "SELECT Date, round((Quantity*Price-Quantity*Cost),2)\n",
    "FROM Movements\n",
    "GROUP BY Date\n",
    "ORDER BY Date ASC;\n",
    "\n",
    "select *\n",
    "from Profit_by_dates;"
   ]
  },
  {
   "cell_type": "markdown",
   "metadata": {},
   "source": [
    "7. Create a table with the Profit grouped by Dates."
   ]
  },
  {
   "cell_type": "code",
   "execution_count": 26,
   "metadata": {},
   "outputs": [
    {
     "name": "stdout",
     "output_type": "stream",
     "text": [
      " * sqlite:///alfajores.db\n",
      "Done.\n"
     ]
    },
    {
     "data": {
      "text/plain": [
       "[]"
      ]
     },
     "execution_count": 26,
     "metadata": {},
     "output_type": "execute_result"
    }
   ],
   "source": [
    "%%sql\n",
    "\n",
    "CREATE TABLE Profit_by_brand\n",
    "(Cod_Brand integer,\n",
    " Brand varchar(50),\n",
    "Profit integer);"
   ]
  },
  {
   "cell_type": "code",
   "execution_count": 27,
   "metadata": {},
   "outputs": [
    {
     "name": "stdout",
     "output_type": "stream",
     "text": [
      " * sqlite:///alfajores.db\n",
      "4 rows affected.\n",
      "Done.\n"
     ]
    },
    {
     "data": {
      "text/html": [
       "<table>\n",
       "    <tr>\n",
       "        <th>Cod_Brand</th>\n",
       "        <th>Brand</th>\n",
       "        <th>Profit</th>\n",
       "    </tr>\n",
       "    <tr>\n",
       "        <td>1</td>\n",
       "        <td>Terrabusi</td>\n",
       "        <td>226.8</td>\n",
       "    </tr>\n",
       "    <tr>\n",
       "        <td>2</td>\n",
       "        <td>Havanna</td>\n",
       "        <td>130.72</td>\n",
       "    </tr>\n",
       "    <tr>\n",
       "        <td>3</td>\n",
       "        <td>Balcarce</td>\n",
       "        <td>43.02</td>\n",
       "    </tr>\n",
       "    <tr>\n",
       "        <td>4</td>\n",
       "        <td>Guaymallen</td>\n",
       "        <td>161.25</td>\n",
       "    </tr>\n",
       "</table>"
      ],
      "text/plain": [
       "[(1, 'Terrabusi', 226.8),\n",
       " (2, 'Havanna', 130.72),\n",
       " (3, 'Balcarce', 43.02),\n",
       " (4, 'Guaymallen', 161.25)]"
      ]
     },
     "execution_count": 27,
     "metadata": {},
     "output_type": "execute_result"
    }
   ],
   "source": [
    "%%sql\n",
    "\n",
    "INSERT INTO Profit_by_brand\n",
    "(Cod_brand, Brand, Profit)\n",
    "SELECT B.Cod_Brand, B.Description, ROUND(SUM(Quantity*Price-Quantity*Cost),2)\n",
    "FROM Movements M\n",
    "INNER JOIN Master_Prod P ON M.Cod_Prod = P.Cod_Prod\n",
    "    INNER JOIN Master_Brand B ON P.Cod_Brand = B.Cod_Brand\n",
    "GROUP BY B.Cod_Brand;\n",
    "\n",
    "select *\n",
    "from Profit_by_brand;"
   ]
  },
  {
   "cell_type": "markdown",
   "metadata": {},
   "source": [
    "9. Asign Cod_Prod = 3 to all the registers in Movements."
   ]
  },
  {
   "cell_type": "code",
   "execution_count": 28,
   "metadata": {},
   "outputs": [
    {
     "name": "stdout",
     "output_type": "stream",
     "text": [
      " * sqlite:///alfajores.db\n",
      "12 rows affected.\n",
      "Done.\n"
     ]
    },
    {
     "data": {
      "text/html": [
       "<table>\n",
       "    <tr>\n",
       "        <th>Cod_Mov</th>\n",
       "        <th>Cod_Prod</th>\n",
       "        <th>Date</th>\n",
       "        <th>Quantity</th>\n",
       "        <th>Cost</th>\n",
       "        <th>Price</th>\n",
       "    </tr>\n",
       "    <tr>\n",
       "        <td>1</td>\n",
       "        <td>3</td>\n",
       "        <td>2019-01-11</td>\n",
       "        <td>4</td>\n",
       "        <td>25.11</td>\n",
       "        <td>36.45</td>\n",
       "    </tr>\n",
       "    <tr>\n",
       "        <td>2</td>\n",
       "        <td>3</td>\n",
       "        <td>2019-01-13</td>\n",
       "        <td>8</td>\n",
       "        <td>27.11</td>\n",
       "        <td>38.45</td>\n",
       "    </tr>\n",
       "    <tr>\n",
       "        <td>3</td>\n",
       "        <td>3</td>\n",
       "        <td>2019-01-13</td>\n",
       "        <td>4</td>\n",
       "        <td>24.11</td>\n",
       "        <td>40.45</td>\n",
       "    </tr>\n",
       "    <tr>\n",
       "        <td>4</td>\n",
       "        <td>3</td>\n",
       "        <td>2019-01-15</td>\n",
       "        <td>1</td>\n",
       "        <td>28.11</td>\n",
       "        <td>42.45</td>\n",
       "    </tr>\n",
       "    <tr>\n",
       "        <td>5</td>\n",
       "        <td>3</td>\n",
       "        <td>2019-01-17</td>\n",
       "        <td>2</td>\n",
       "        <td>28.11</td>\n",
       "        <td>42.45</td>\n",
       "    </tr>\n",
       "    <tr>\n",
       "        <td>6</td>\n",
       "        <td>3</td>\n",
       "        <td>2019-01-17</td>\n",
       "        <td>3</td>\n",
       "        <td>22.11</td>\n",
       "        <td>38.22</td>\n",
       "    </tr>\n",
       "    <tr>\n",
       "        <td>7</td>\n",
       "        <td>3</td>\n",
       "        <td>2019-02-19</td>\n",
       "        <td>4</td>\n",
       "        <td>27.11</td>\n",
       "        <td>38.45</td>\n",
       "    </tr>\n",
       "    <tr>\n",
       "        <td>8</td>\n",
       "        <td>3</td>\n",
       "        <td>2019-02-21</td>\n",
       "        <td>1</td>\n",
       "        <td>33.12</td>\n",
       "        <td>54.65</td>\n",
       "    </tr>\n",
       "    <tr>\n",
       "        <td>9</td>\n",
       "        <td>3</td>\n",
       "        <td>2019-03-01</td>\n",
       "        <td>4</td>\n",
       "        <td>24.11</td>\n",
       "        <td>40.45</td>\n",
       "    </tr>\n",
       "    <tr>\n",
       "        <td>10</td>\n",
       "        <td>3</td>\n",
       "        <td>2019-03-11</td>\n",
       "        <td>2</td>\n",
       "        <td>33.12</td>\n",
       "        <td>54.65</td>\n",
       "    </tr>\n",
       "    <tr>\n",
       "        <td>11</td>\n",
       "        <td>3</td>\n",
       "        <td>2019-04-01</td>\n",
       "        <td>4</td>\n",
       "        <td>25.11</td>\n",
       "        <td>36.45</td>\n",
       "    </tr>\n",
       "    <tr>\n",
       "        <td>12</td>\n",
       "        <td>3</td>\n",
       "        <td>2019-04-05</td>\n",
       "        <td>3</td>\n",
       "        <td>22.11</td>\n",
       "        <td>38.22</td>\n",
       "    </tr>\n",
       "</table>"
      ],
      "text/plain": [
       "[(1, 3, '2019-01-11', 4, 25.11, 36.45),\n",
       " (2, 3, '2019-01-13', 8, 27.11, 38.45),\n",
       " (3, 3, '2019-01-13', 4, 24.11, 40.45),\n",
       " (4, 3, '2019-01-15', 1, 28.11, 42.45),\n",
       " (5, 3, '2019-01-17', 2, 28.11, 42.45),\n",
       " (6, 3, '2019-01-17', 3, 22.11, 38.22),\n",
       " (7, 3, '2019-02-19', 4, 27.11, 38.45),\n",
       " (8, 3, '2019-02-21', 1, 33.12, 54.65),\n",
       " (9, 3, '2019-03-01', 4, 24.11, 40.45),\n",
       " (10, 3, '2019-03-11', 2, 33.12, 54.65),\n",
       " (11, 3, '2019-04-01', 4, 25.11, 36.45),\n",
       " (12, 3, '2019-04-05', 3, 22.11, 38.22)]"
      ]
     },
     "execution_count": 28,
     "metadata": {},
     "output_type": "execute_result"
    }
   ],
   "source": [
    "%%sql\n",
    "\n",
    "UPDATE Movements\n",
    "SET Cod_Prod = 3;\n",
    "\n",
    "SELECT *\n",
    "FROM Movements;"
   ]
  },
  {
   "cell_type": "markdown",
   "metadata": {},
   "source": [
    "10. Asign (Cod_Prov = 3) to all the registers in Movements where Product Description starts with letter 'D'."
   ]
  },
  {
   "cell_type": "code",
   "execution_count": 29,
   "metadata": {},
   "outputs": [
    {
     "name": "stdout",
     "output_type": "stream",
     "text": [
      " * sqlite:///alfajores.db\n",
      "3 rows affected.\n",
      "Done.\n"
     ]
    },
    {
     "data": {
      "text/html": [
       "<table>\n",
       "    <tr>\n",
       "        <th>Cod_Prod</th>\n",
       "        <th>Cod_Brand</th>\n",
       "        <th>Cod_Prov</th>\n",
       "        <th>Description</th>\n",
       "    </tr>\n",
       "    <tr>\n",
       "        <td>2</td>\n",
       "        <td>1</td>\n",
       "        <td>3</td>\n",
       "        <td>Dulce de leche</td>\n",
       "    </tr>\n",
       "    <tr>\n",
       "        <td>7</td>\n",
       "        <td>4</td>\n",
       "        <td>3</td>\n",
       "        <td>Dulce de Leche</td>\n",
       "    </tr>\n",
       "    <tr>\n",
       "        <td>11</td>\n",
       "        <td>3</td>\n",
       "        <td>3</td>\n",
       "        <td>Dulce de leche</td>\n",
       "    </tr>\n",
       "</table>"
      ],
      "text/plain": [
       "[(2, 1, 3, 'Dulce de leche'),\n",
       " (7, 4, 3, 'Dulce de Leche'),\n",
       " (11, 3, 3, 'Dulce de leche')]"
      ]
     },
     "execution_count": 29,
     "metadata": {},
     "output_type": "execute_result"
    }
   ],
   "source": [
    "%%sql\n",
    "\n",
    "UPDATE Master_Prod\n",
    "SET Cod_Prov = 3\n",
    "WHERE Cod_Prod IN (SELECT Cod_Prod\n",
    "                    FROM Master_Prod \n",
    "                   WHERE Description LIKE 'D%');\n",
    "\n",
    "SELECT *\n",
    "FROM Master_Prod\n",
    "WHERE Description LIKE 'D%';"
   ]
  }
 ],
 "metadata": {
  "kernelspec": {
   "display_name": "Python 3",
   "language": "python",
   "name": "python3"
  },
  "language_info": {
   "codemirror_mode": {
    "name": "ipython",
    "version": 3
   },
   "file_extension": ".py",
   "mimetype": "text/x-python",
   "name": "python",
   "nbconvert_exporter": "python",
   "pygments_lexer": "ipython3",
   "version": "3.7.4"
  }
 },
 "nbformat": 4,
 "nbformat_minor": 2
}
